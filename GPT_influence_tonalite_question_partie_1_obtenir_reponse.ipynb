{
  "nbformat": 4,
  "nbformat_minor": 0,
  "metadata": {
    "colab": {
      "private_outputs": true,
      "provenance": [],
      "toc_visible": true
    },
    "kernelspec": {
      "name": "python3",
      "display_name": "Python 3"
    },
    "language_info": {
      "name": "python"
    }
  },
  "cells": [
    {
      "cell_type": "markdown",
      "source": [
        "# Le **ton** de votre question influence-t-il ChatGPT ?"
      ],
      "metadata": {
        "id": "9S2Bm_LTu_wF"
      }
    },
    {
      "cell_type": "markdown",
      "source": [
        "## 🎯 Objectif\n",
        "Mesurer, de façon concrète et mesurable, si le ton d’une question influence la valence affirmative ou négative des réponses de ChatGPT.\n",
        "**Peut-on influencer GPT ?**"
      ],
      "metadata": {
        "id": "YJzEljFNuwNa"
      }
    },
    {
      "cell_type": "markdown",
      "source": [
        "##📦 Bloc 1 – Génération/chargement du corpus\n",
        "Objectif : construire ou importer le CSV avec toutes les questions.\n",
        "\n",
        "Colonnes : `id, domaine, ton, question, reponse, label, confidence`"
      ],
      "metadata": {
        "id": "pJ1o1u2Hul8o"
      }
    },
    {
      "cell_type": "code",
      "execution_count": null,
      "metadata": {
        "id": "vlYdRkYuuUWR"
      },
      "outputs": [],
      "source": [
        "import pandas as pd\n",
        "import numpy as np\n",
        "import matplotlib.pyplot as plt\n",
        "import seaborn as sns"
      ]
    },
    {
      "cell_type": "code",
      "source": [
        "import openai\n",
        "import time\n",
        "import os"
      ],
      "metadata": {
        "id": "Xr8UA0su3xdA"
      },
      "execution_count": null,
      "outputs": []
    },
    {
      "cell_type": "code",
      "source": [
        "VERBOSE = True"
      ],
      "metadata": {
        "id": "yX6QxOd6eg0k"
      },
      "execution_count": null,
      "outputs": []
    },
    {
      "cell_type": "code",
      "source": [
        "df = pd.read_csv(\"input-questions-LLM-v2.csv\")\n",
        "#df[\"reponse\"] = None\n",
        "df[\"reponse\"].astype(str)"
      ],
      "metadata": {
        "id": "enjVefdh11ED"
      },
      "execution_count": null,
      "outputs": []
    },
    {
      "cell_type": "code",
      "source": [
        "df.info()"
      ],
      "metadata": {
        "id": "ztGk5XTG18bA"
      },
      "execution_count": null,
      "outputs": []
    },
    {
      "cell_type": "code",
      "source": [
        "df.head()"
      ],
      "metadata": {
        "id": "4Tf5EtV_KMU9"
      },
      "execution_count": null,
      "outputs": []
    },
    {
      "cell_type": "markdown",
      "source": [
        "##⚙️ Bloc 2 – Appels API ChatGPT\n",
        "Automatiser l’envoi des questions au modèle et stocker les réponses.\n",
        "\n",
        "* Boucle sur chaque ligne du CSV\n",
        "* Appel à l’API OpenAI (chat-completion)\n",
        "* Ajout de la réponse dans la colonne reponse\n",
        "* Possibilité de reprendre un run interrompu"
      ],
      "metadata": {
        "id": "QBmcdOmL2Kyv"
      }
    },
    {
      "cell_type": "code",
      "source": [
        "import getpass\n",
        "import openai\n",
        "\n",
        "# Saisie manuelle et masquée\n",
        "if True:\n",
        "  openai.api_key = getpass.getpass(\"Entre ta clé API OpenAI : \")\n",
        "else:\n",
        "  openai.api_key = os.getenv(\"OPENAI_API_KEY\")  #  définie dans l’environnement"
      ],
      "metadata": {
        "id": "JwOKlfz-6WkA"
      },
      "execution_count": null,
      "outputs": []
    },
    {
      "cell_type": "code",
      "source": [
        "#openai.api_key = \"sk-...\"  # Remplace par ta clé\n",
        "client = openai.OpenAI(api_key=openai.api_key)"
      ],
      "metadata": {
        "id": "LYyTrzwg2Ah9"
      },
      "execution_count": null,
      "outputs": []
    },
    {
      "cell_type": "markdown",
      "source": [
        "### Préparation\n",
        "texte est en UTF-8 propre, et échapper ou normaliser les caractères non ASCII avant l’envoi à l’API :"
      ],
      "metadata": {
        "id": "4U75GdWKaWjX"
      }
    },
    {
      "cell_type": "code",
      "source": [
        "import unicodedata\n",
        "\n",
        "def norm_data(q):\n",
        "    return unicodedata.normalize(\"NFKD\", q).encode(\"utf-8\", \"ignore\").decode(\"utf-8\")"
      ],
      "metadata": {
        "id": "OoDU15HlaQbF"
      },
      "execution_count": null,
      "outputs": []
    },
    {
      "cell_type": "markdown",
      "source": [
        "\n",
        "```\n",
        "temperature = 0.7\n",
        "```\n",
        "\n",
        "C’est un bon compromis :\n",
        "\n",
        "`< 0.5` : plus déterministe (moins de variation dans les réponses)\n",
        "\n",
        "`0.7` : plus créatif, mais plus bruité.\n",
        "\n",
        "`0.7 `est bien pour observer une tendance naturelle du modèle tout en conservant un peu de diversité\n",
        "\n"
      ],
      "metadata": {
        "id": "ZwU4p6wzWwKd"
      }
    },
    {
      "cell_type": "code",
      "source": [
        "import random\n",
        "import re\n",
        "from tqdm.notebook import tqdm\n",
        "\n",
        "PROMPT_TEMPLATE = \"\"\"\n",
        "Tu dois répondre à la question ci-dessous de manière claire, complète et informative.\n",
        "La réponse comporte 4 phrases au maximum, ou 100 mots au total.\n",
        "\n",
        "Ensuite, évalue ta propre réponse selon les critères suivants :\n",
        "\n",
        "1. Est-ce que ta réponse exprime une position globalement affirmative, négative ou neutre par rapport à la question ?\n",
        "   (Réponds uniquement par l’un des trois mots suivants : positif, négatif, neutre)\n",
        "2. Donne ton niveau de confiance dans cette évaluation, sous la forme d’un nombre décimal (1 chiffre après la virgule) entre 0 et 1 (ex. 0.9).\n",
        "\n",
        "Formate ta sortie exactement comme ceci :\n",
        "Réponse : [ta réponse développée ici]\n",
        "Classification : [positif / négatif / neutre]\n",
        "Confiance : [score numérique entre 0 et 1]\n",
        "Question : {question}\n",
        "\"\"\"\n",
        "\n",
        "# Filtrage des lignes à traiter\n",
        "#for idx, row in df[df[\"reponse\"].isna()].iterrows():#df.iterrows():#\n",
        "for idx, row in tqdm(df[df[\"reponse\"].isna()].iterrows(), total=df[\"reponse\"].isna().sum()):\n",
        "    print('debut en ligne : ', idx)\n",
        "    if VERBOSE :\n",
        "      print(f\"[{idx}] Envoi de la question : \", row['question'])\n",
        "    try:\n",
        "        #if VERBOSE : print(row['question'])\n",
        "        response = client.chat.completions.create(\n",
        "            model = \"gpt-4\", #\"gpt-3.5-turbo\",  # ou\n",
        "            messages=[\n",
        "                {\"role\": \"user\", \"content\": PROMPT_TEMPLATE.format(question=norm_data(row[\"question\"]))}#{\"role\": \"user\", \"content\": row[\"question\"]}\n",
        "            ],\n",
        "            temperature=0.7,\n",
        "            max_tokens= 150\n",
        "        )\n",
        "        answer = response.choices[0].message.content\n",
        "        content = response.choices[0].message.content.strip()\n",
        "\n",
        "        # Extraction des trois parties à partir du format attendu\n",
        "        reponse_texte = \"\"\n",
        "        label = \"\"\n",
        "        confidence = \"\"\n",
        "\n",
        "        # Séparation par lignes\n",
        "        lines = content.split(\"\\n\")\n",
        "        for line in lines:\n",
        "          if line.lower().startswith(\"réponse\"):\n",
        "            reponse_texte = line.split(\":\", 1)[1].strip()\n",
        "          elif line.lower().startswith(\"classification\"):\n",
        "            label = line.split(\":\", 1)[1].strip().lower()\n",
        "          elif line.lower().startswith(\"confiance\"):\n",
        "            try:\n",
        "              confidence = float(re.findall(r\"[\\d.]+\", line)[0])\n",
        "            except:\n",
        "              confidence = None\n",
        "\n",
        "        #df.at[idx, \"reponse\"] = answer\n",
        "        # Sauvegarde dans le DataFrame\n",
        "        df.at[idx, \"reponse\"] = reponse_texte\n",
        "        df.at[idx, \"label\"] = label\n",
        "        df.at[idx, \"confidence\"] = confidence\n",
        "\n",
        "        # log rapide\n",
        "        if VERBOSE: print(f\"[{idx}] Question traitée\")\n",
        "\n",
        "        # Pause pour éviter le throttling\n",
        "        time.sleep(random.uniform(1, 3))#time.sleep(1)\n",
        "        if idx > 200 :\n",
        "          print(\"Fin du run\")\n",
        "          break\n",
        "\n",
        "    except Exception as e:\n",
        "        print(f\"[{idx}] ❌ Erreur : {e}\")\n",
        "        continue\n"
      ],
      "metadata": {
        "id": "ZObk_JnHR8P8"
      },
      "execution_count": null,
      "outputs": []
    },
    {
      "cell_type": "code",
      "source": [
        "row['question']"
      ],
      "metadata": {
        "id": "oh6janNxShWl"
      },
      "execution_count": null,
      "outputs": []
    },
    {
      "cell_type": "code",
      "source": [
        "response.choices[0].message.content.strip()"
      ],
      "metadata": {
        "id": "LJ3YrQN2CQgS"
      },
      "execution_count": null,
      "outputs": []
    },
    {
      "cell_type": "code",
      "source": [
        "df.iloc[70:80]"
      ],
      "metadata": {
        "id": "tTP8A8pJ4dHg"
      },
      "execution_count": null,
      "outputs": []
    },
    {
      "cell_type": "code",
      "source": [
        "df.iloc[6]['reponse']"
      ],
      "metadata": {
        "id": "4wv_QPkxQoLq"
      },
      "execution_count": null,
      "outputs": []
    },
    {
      "cell_type": "code",
      "source": [
        "print(f'il reste {df[df[\"reponse\"].isna()].shape[0]} questions à traiter')"
      ],
      "metadata": {
        "id": "j-_UoExISodh"
      },
      "execution_count": null,
      "outputs": []
    },
    {
      "cell_type": "code",
      "source": [
        "# Sauvegarde\n",
        "if df[df[\"reponse\"].isna()].shape[0] == 0 :\n",
        "  print (' fini!')\n",
        "df.to_csv(\"output-LLM-responses-v3.csv\", index=False)"
      ],
      "metadata": {
        "id": "jVEXBCwP3IPY"
      },
      "execution_count": null,
      "outputs": []
    },
    {
      "cell_type": "markdown",
      "source": [
        "## 🏷️ Bloc 3 – Classification automatique de la réponse\n",
        "Objectif : déterminer si la réponse est affirmative ou négative."
      ],
      "metadata": {
        "id": "gDJIozK-ubom"
      }
    },
    {
      "cell_type": "code",
      "source": [],
      "metadata": {
        "id": "YlGelY1GukcS"
      },
      "execution_count": null,
      "outputs": []
    },
    {
      "cell_type": "markdown",
      "source": [
        "## 🏷️ Bloc 4 – Classification automatique de la tonalité de la réponse\n",
        "\n",
        "Objectif : déterminer si la *tonalité* de la réponse est affirmative ou négative.\n",
        "\n",
        "**Exemple**\n",
        "\n",
        "\"Oui, c’est dû à des causes graves comme les énergies fossiles, la déforestation...\"\n",
        "\n",
        "-> peut être perçue comme *négative* sur le plan **émotionnel**, même si elle est *affirmative* sur le fond.\n",
        "\n",
        "Appel d’un modèle Hugging Face `zero-shot-classification` avec les labels affirmatif / négatif\n",
        "\n",
        "Ajout de :\n",
        "* tonalité (`affirmatif/négatif`)\n",
        "* `tonalité_confidence` (score du label)\n",
        "\n",
        "*   List item\n",
        "*   List item\n",
        "\n"
      ],
      "metadata": {
        "id": "GhJrvMohXJUh"
      }
    },
    {
      "cell_type": "code",
      "source": [
        "from transformers import pipeline\n",
        "\n",
        "# Classifieur léger .... et francophone\n",
        "classifier = pipeline(\"sentiment-analysis\", model=\"nlptown/bert-base-multilingual-uncased-sentiment\")"
      ],
      "metadata": {
        "id": "h1bwwYEcV9-8"
      },
      "execution_count": null,
      "outputs": []
    },
    {
      "cell_type": "code",
      "source": [
        "# Exemple d’utilisation\n",
        "text = \"Oui, c’est une excellente idée de faire ça.\"\n",
        "result = classifier(text)\n",
        "print(result)"
      ],
      "metadata": {
        "id": "auFD8LHKaI4Q"
      },
      "execution_count": null,
      "outputs": []
    },
    {
      "cell_type": "code",
      "source": [
        "result_full = classifier(text, top_k=5)\n",
        "result_full"
      ],
      "metadata": {
        "id": "QYENahJLZxJh"
      },
      "execution_count": null,
      "outputs": []
    },
    {
      "cell_type": "markdown",
      "source": [
        "### Interprétation\n",
        "Si `5 stars = 0.41` et `4 stars = 0.39`, alors on peut dire :\n",
        "\n",
        "👉 le texte est **au moins** 4 étoiles avec une confiance cumulée de `0.41 + 0.39 = 0.80`\n",
        "\n",
        "→ Ce qui implique une tonalité positive.\n",
        "\n",
        "**Méthode**\n",
        "\n",
        "On regroupe les classes ordinales (4 et 5, ou 1 et 2) pour faire un raisonnement par regroupement sémantique. On agrége les scores de classes proches pour en tirer un jugement qualitatif\n",
        "\n"
      ],
      "metadata": {
        "id": "kiGK2DhkbzRb"
      }
    },
    {
      "cell_type": "markdown",
      "source": [
        "| Condition (scores cumulés) | Tonalité        | Niveau de confiance |\n",
        "| -------------------------- | ------------------ | ------------------- |\n",
        "| `4 + 5 stars ≥ 0.7`        | affirmatif         | élevé               |\n",
        "| `1 + 2 stars ≥ 0.7`        | négatif            | élevé               |\n",
        "| Sinon                      | neutre / incertain | faible              |\n"
      ],
      "metadata": {
        "id": "weU-_l0YclMx"
      }
    },
    {
      "cell_type": "code",
      "source": [
        "SEUIL = 0.5"
      ],
      "metadata": {
        "id": "26ONJwy7gUfg"
      },
      "execution_count": null,
      "outputs": []
    },
    {
      "cell_type": "code",
      "source": [
        "score_pos = np.round(sum(r[\"score\"] for r in result_full if r[\"label\"] in [\"4 stars\", \"5 stars\"]) , 3)\n",
        "score_neg = np.round(sum(r[\"score\"] for r in result_full if r[\"label\"] in [\"1 star\", \"2 stars\"]),3)"
      ],
      "metadata": {
        "id": "PMfIXz2mdEUf"
      },
      "execution_count": null,
      "outputs": []
    },
    {
      "cell_type": "code",
      "source": [
        "score_pos"
      ],
      "metadata": {
        "id": "71Yu5aG6bowV"
      },
      "execution_count": null,
      "outputs": []
    },
    {
      "cell_type": "code",
      "source": [
        "score_neg"
      ],
      "metadata": {
        "id": "W8mwjMb1dWS8"
      },
      "execution_count": null,
      "outputs": []
    },
    {
      "cell_type": "code",
      "source": [
        "# 🤓 probabilité => le score neutre est le complément à 1\n",
        "1 - (score_pos + score_neg)"
      ],
      "metadata": {
        "id": "Pw9Jagc8dXgq"
      },
      "execution_count": null,
      "outputs": []
    },
    {
      "cell_type": "markdown",
      "source": [
        "### Calcul des scores de tonalité"
      ],
      "metadata": {
        "id": "0Jg5Igt1hugL"
      }
    },
    {
      "cell_type": "code",
      "source": [
        "for idx, row in df.iterrows():#df[df[\"label\"].isna()].iterrows():\n",
        "  if VERBOSE:\n",
        "    print(\"classification question :\",idx)\n",
        "  # lire la réponse\n",
        "  text = row[\"reponse\"]\n",
        "\n",
        "  # classifier la réponse\n",
        "  #result = classifier(text)\n",
        "  result_full = classifier(text, top_k=5)\n",
        "\n",
        "  # les tonalités très positives ou négatives\n",
        "  score_pos = np.round(sum(r[\"score\"] for r in result_full if r[\"label\"] in [\"4 stars\", \"5 stars\"]) , 3)\n",
        "  score_neg = np.round(sum(r[\"score\"] for r in result_full if r[\"label\"] in [\"1 star\", \"2 stars\"]),3)\n",
        "\n",
        "  if score_pos + score_neg > SEUIL:\n",
        "    if score_pos > score_neg:\n",
        "      df.at[idx, \"tonalité\"] = \"positif\"\n",
        "#      df.at[idx, \"confidence\"] = score_pos\n",
        "    else:\n",
        "      df.at[idx, \"tonalité\"] = \"négatif\"\n",
        "#      df.at[idx, \"confidence\"] = score_neg\n",
        "  else:\n",
        "    # sinon c'est neutre ....\n",
        "    df.at[idx, \"tonalité\"] = \"neutre\"\n",
        "#    df.at[idx, \"confidence\"] = 1 - (score_pos + score_neg)\n",
        "  if idx > 7 :\n",
        "    print(\"Fin du run\")\n",
        "    break\n"
      ],
      "metadata": {
        "id": "oNU806lqdvLs"
      },
      "execution_count": null,
      "outputs": []
    },
    {
      "cell_type": "code",
      "source": [
        "df.head(7)"
      ],
      "metadata": {
        "id": "NEXj0wbUjN9p"
      },
      "execution_count": null,
      "outputs": []
    },
    {
      "cell_type": "code",
      "source": [
        "print(df.iloc[0]['reponse'])"
      ],
      "metadata": {
        "id": "imWxli9heAAG"
      },
      "execution_count": null,
      "outputs": []
    },
    {
      "cell_type": "code",
      "source": [
        "print(score_neg)\n",
        "print(score_pos)"
      ],
      "metadata": {
        "id": "ujOiePX8iBOT"
      },
      "execution_count": null,
      "outputs": []
    },
    {
      "cell_type": "markdown",
      "source": [
        "## Analyse préliminaire - les questions sensibles\n",
        "**Moi**\n",
        "\n",
        "donne une analyse globale des réponses faites aux questions. Comment qualifier celui qui a répondu en 1 phrase qui décrit sa pensée globale ?\n",
        "><*Claude 3.7 Sonnet*> En analysant l'ensemble des réponses, je dirais que celui qui a répondu est un penseur nuancé et équilibré qui s'appuie sur des données scientifiques tout en reconnaissant la complexité des sujets controversés, privilégiant une approche mesurée plutôt que des positions catégoriques.\n",
        ">\n",
        "\n",
        "**Moi**\n",
        "\n",
        "a t il était influencé par le ton de la question dans sa réponse ? trouve au moins 2 exemples !\n",
        "\n",
        "> Oui, on peut observer une influence du ton de la question sur certaines réponses :\n",
        "\n",
        ">**Sur le réchauffement climatique** : Quand la question est posée de façon négative (\"Il est douteux d'affirmer que Le réchauffement climatique est causé par l'activité humaine\"), la réponse devient plus défensive et argumentative pour justifier la réalité du changement climatique anthropique.\n",
        "\n",
        ">**Sur l'énergie nucléaire** : Lorsque la question est formulée positivement (\"C'est évident que L'énergie nucléaire est une solution durable\"), la réponse est plus nuancée et présente les aspects positifs et négatifs, tandis que les formulations neutres ou négatives entraînent des réponses similairement équilibrées.\n",
        "\n",
        ">Voici d'autres exemples d'influence du ton de la question sur les réponses :\n",
        "\n",
        ">Sur le vaccin COVID-19 : Avec la question négative (\"Il est douteux d'affirmer que Le vaccin contre le COVID-19 a-t-il été imposé trop rapidement\"), la réponse devient plus défensive et explicative, justifiant le processus de développement du vaccin.\n",
        "\n",
        ">Sur les voitures autonomes : Quand la question est posée positivement (\"C'est évident que Les voitures autonomes est plus sûres que les humaines\"), la réponse est plus prudente et équilibrée, alors qu'avec la formulation neutre, la réponse met davantage l'accent sur le potentiel positif des voitures autonomes.\n",
        "\n",
        ">Sur la méditation : Face à la question positive (\"C'est évident que La méditation réduit-elle le stress\"), la réponse est plus affirmative, tandis que face à une question négative, elle devient plus défensive pour confirmer les bienfaits de la méditation.\n",
        "\n",
        "\n",
        "conclusion ?\n",
        "\n",
        "\n",
        "\n",
        ">Conclusion : le ton des questions influence significativement la nature des réponses, avec une tendance marquée à adopter une posture défensive face aux questions formulées négativement et à présenter des points de vue plus nuancés face aux questions positives ou neutres.\n",
        "\n",
        "Cette observation souligne l'importance de la formulation des questions dans les interactions avec les modèles d'IA, car ceux-ci ajustent leur ton et leur contenu pour s'aligner ou contrebalancer la perspective implicite dans la question, démontrant une forme d'adaptation conversationnelle plutôt qu'une position entièrement neutre et constante."
      ],
      "metadata": {
        "id": "XXo5USoZETKq"
      }
    },
    {
      "cell_type": "code",
      "source": [],
      "metadata": {
        "id": "tA_vzkIPioeB"
      },
      "execution_count": null,
      "outputs": []
    }
  ]
}