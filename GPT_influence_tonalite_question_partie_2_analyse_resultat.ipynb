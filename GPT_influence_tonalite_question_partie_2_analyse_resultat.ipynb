{
  "nbformat": 4,
  "nbformat_minor": 0,
  "metadata": {
    "colab": {
      "private_outputs": true,
      "provenance": []
    },
    "kernelspec": {
      "name": "python3",
      "display_name": "Python 3"
    },
    "language_info": {
      "name": "python"
    }
  },
  "cells": [
    {
      "cell_type": "markdown",
      "source": [
        "# Le **ton** de votre question influence-t-il ChatGPT ? - Partie-2-Analyse"
      ],
      "metadata": {
        "id": "9S2Bm_LTu_wF"
      }
    },
    {
      "cell_type": "markdown",
      "source": [
        "## 🎯 Objectif\n",
        "Mesurer, de façon concrète et mesurable, si le ton d’une question influence la valence affirmative ou négative des réponses de ChatGPT.\n",
        "**Peut-on influencer GPT ?**"
      ],
      "metadata": {
        "id": "YJzEljFNuwNa"
      }
    },
    {
      "cell_type": "code",
      "execution_count": null,
      "metadata": {
        "id": "W9L0h58eHrjY"
      },
      "outputs": [],
      "source": [
        "import pandas as pd\n",
        "import numpy as np\n",
        "import matplotlib.pyplot as plt\n",
        "import seaborn as sns\n",
        "from collections import defaultdict, Counter\n",
        "import networkx as nx\n",
        "from tqdm.notebook import tqdm\n",
        "\n",
        "# Pour une meilleure visualisation\n",
        "plt.style.use('seaborn-v0_8-whitegrid')\n",
        "plt.rcParams['figure.figsize'] = (12, 8)\n",
        "plt.rcParams['font.size'] = 12\n",
        "\n",
        "# Définir la graine aléatoire pour la reproductibilité\n",
        "np.random.seed(42)"
      ]
    },
    {
      "cell_type": "code",
      "source": [
        "# Paramètres globaux\n",
        "VERBOSE = True\n",
        "SEUIL_CONFIANCE = 0.7  # Seuil pour considérer une réponse comme \"confiante\""
      ],
      "metadata": {
        "id": "Tsf2EwaZPGSQ"
      },
      "execution_count": null,
      "outputs": []
    },
    {
      "cell_type": "markdown",
      "source": [
        "## 📦 Bloc 1 – Configuration et chargement des données\n",
        "\n",
        "Dans cette première partie, nous allons charger les données générées lors de notre première expérience. Ces données contiennent les questions posées à ChatGPT avec différents tons, ainsi que les réponses obtenues et leur classification.\n",
        "\n",
        "Le fichier attendu est `output-LLM-responses-v3.csv`, généré lors de la partie 1 de notre analyse. Ce fichier contient plusieurs colonnes importantes :\n",
        "- Le `domaine` de la question (science, société, santé, etc.)\n",
        "- `question` : le texte de la question posée\n",
        "- `ton` : le ton utilisé pour poser la question\n",
        "- `reponse` : la réponse fournie par ChatGPT\n",
        "- `label` : la classification de la réponse, le `label` attribué à la réponse (`positif, négatif, neutre`)\n",
        "- `confidence` : le niveau de confiance de la classification\n"
      ],
      "metadata": {
        "id": "NU9g2oiNQFN1"
      }
    },
    {
      "cell_type": "code",
      "source": [
        "# Chargement des données\n",
        "try:\n",
        "    df = pd.read_csv(\"output-LLM-responses-v3.csv\" , sep=',')\n",
        "    # Suppression des colonnes vides ou inutiles\n",
        "    df = df.drop(columns=['tonalité', 'Unnamed: 6'], errors='ignore')\n",
        "    print(f\"Données chargées : {df.shape[0]} questions analysées\")\n",
        "except FileNotFoundError:\n",
        "    print(\"❌ Fichier de données non trouvé. Vérifiez que le notebook partie 1 a bien été exécuté.\")"
      ],
      "metadata": {
        "id": "uBYx7uADPQ_G"
      },
      "execution_count": null,
      "outputs": []
    },
    {
      "cell_type": "code",
      "source": [
        "df.info()"
      ],
      "metadata": {
        "id": "k3Sipqx2Ri2b"
      },
      "execution_count": null,
      "outputs": []
    },
    {
      "cell_type": "code",
      "source": [
        "df.head(10)"
      ],
      "metadata": {
        "id": "HkJ3x6hZRck1"
      },
      "execution_count": null,
      "outputs": []
    },
    {
      "cell_type": "code",
      "source": [
        "df.iloc[36]['question']"
      ],
      "metadata": {
        "id": "n1AJChMpgSEk"
      },
      "execution_count": null,
      "outputs": []
    },
    {
      "cell_type": "code",
      "source": [
        "df.iloc[30:40]"
      ],
      "metadata": {
        "id": "2OlfeHyTcJCm"
      },
      "execution_count": null,
      "outputs": []
    },
    {
      "cell_type": "markdown",
      "source": [
        "## 📦 Bloc 2 – Exploration préliminaire des données\n",
        "\n",
        "Après avoir chargé le fichier `output-LLM-responses-v3.csv`, nous pouvons observer qu'il contient plusieurs catégories de questions, posées avec trois tons différents (`positif, neutre, négatif`) et les réponses correspondantes de ChatGPT."
      ],
      "metadata": {
        "id": "EnQgcLO7Q0cf"
      }
    },
    {
      "cell_type": "code",
      "source": [
        "# Vérification des valeurs uniques dans les colonnes clés\n",
        "print(\"\\nDomaines uniques:\", df['domaine'].nunique())\n",
        "print(\"Tons utilisés:\", df['ton'].unique())\n",
        "print(\"Labels de réponses:\", df['label'].unique())\n",
        "print(\"Nombre total d'entrées:\", len(df))"
      ],
      "metadata": {
        "id": "pqfTpW4nPRCi"
      },
      "execution_count": null,
      "outputs": []
    },
    {
      "cell_type": "code",
      "source": [
        "np.unique(df['domaine'] , return_counts = True)"
      ],
      "metadata": {
        "id": "5UkDo_5EUYcf"
      },
      "execution_count": null,
      "outputs": []
    },
    {
      "cell_type": "markdown",
      "source": [
        "### Analyse par tonalité\n",
        "\n",
        "Maintenant que nos données sont prêtes, nous allons examiner comment la tonalité des questions affecte les réponses de ChatGPT. Commençons par visualiser la distribution des labels (`positif, neutre, négatif`) selon le ton utilisé dans la question."
      ],
      "metadata": {
        "id": "rvoJ3mO3Sj_3"
      }
    },
    {
      "cell_type": "code",
      "source": [
        "# Créer un tableau croisé des tons et des labels\n",
        "tone_label_counts = pd.crosstab(df['ton'], df['label'])\n",
        "print(tone_label_counts)\n",
        "\n",
        "# Calculer les pourcentages par type de ton\n",
        "tone_label_percentage = pd.crosstab(df['ton'], df['label'], normalize='index') * 100\n",
        "print(\"\\nPourcentages par ton (%)\")\n",
        "print(tone_label_percentage.round(1))\n",
        "\n",
        "# Visualisation\n",
        "plt.figure(figsize=(10, 6))\n",
        "tone_label_percentage.plot(kind='bar', stacked=False , figsize=(8, 4))\n",
        "plt.title('Distribution des labels de réponse selon le ton de la question')\n",
        "plt.xlabel('Ton de la question')\n",
        "plt.ylabel('Pourcentage (%)')\n",
        "plt.xticks(rotation=0)\n",
        "plt.legend(title='Label de réponse')\n",
        "plt.tight_layout()\n",
        "plt.show()"
      ],
      "metadata": {
        "id": "gSb7swbuPRFy"
      },
      "execution_count": null,
      "outputs": []
    },
    {
      "cell_type": "markdown",
      "source": [
        "###Observation initiale des tendances par ton\n",
        "Le graphique montre une relation intéressante entre le ton de la question et celui de la réponse :\n",
        "\n",
        "Les questions avec une tonalité **neutre** générent davantage de réponses positives (48%) que les autres types de questions.\n",
        "\n",
        "Face aux questions de tonalité **négative**, le modèle privilégie les réponses neutres, suggérant une possible modération automatique.\n",
        "\n",
        "Pour les questions à tonalité **positive**, on observe une distribution plus équilibrée entre réponses neutres et positives.\n",
        "\n",
        "Ces premières observations indiquent que le ton de la question influence effectivement la réponse, mais pas toujours de façon prévisible. Une analyse plus approfondie est nécessaire pour comprendre les mécanismes en jeu et les implications pour l'utilisation des LLM dans différents contextes."
      ],
      "metadata": {
        "id": "R-2VSL_mXZmc"
      }
    },
    {
      "cell_type": "markdown",
      "source": [
        "### Analyse des réponses par domaine\n",
        "\n",
        "Explorons maintenant comment les réponses varient selon les différents **domaines** de questions. Cela nous permettra de voir si *certains sujets* génèrent systématiquement des réponses plus positives, négatives ou neutres, quelle que soit la tonalité de la question."
      ],
      "metadata": {
        "id": "Bc7Qpg6_T6b9"
      }
    },
    {
      "cell_type": "code",
      "source": [
        "# Compter le nombre d'occurrences par domaine\n",
        "domain_counts = df['domaine'].value_counts()\n",
        "\n",
        "# Sélectionner les domaines les plus fréquents (au moins 6 questions)\n",
        "top_domains = domain_counts[domain_counts >= 6].index.tolist()\n",
        "\n",
        "# Filtrer le dataframe pour ne garder que les principaux domaines\n",
        "df_top_domains = df[df['domaine'].isin(top_domains)]\n",
        "\n",
        "# Créer un tableau croisé des domaines principaux et des labels\n",
        "top_domain_label_counts = pd.crosstab(df_top_domains['domaine'], df_top_domains['label'])\n",
        "print(\"Distribution des labels pour les principaux domaines:\")\n",
        "print(top_domain_label_counts)\n",
        "\n",
        "# Calculer les pourcentages par domaine principal\n",
        "top_domain_label_percentage = pd.crosstab(df_top_domains['domaine'], df_top_domains['label'], normalize='index') * 100\n",
        "print(\"\\nPourcentages par domaine principal (%):\")\n",
        "print(top_domain_label_percentage.round(1))\n",
        "\n",
        "# Visualisation plus lisible\n",
        "plt.figure(figsize=(12, 6))\n",
        "top_domain_label_percentage.plot(kind='bar', stacked=False)\n",
        "plt.title('Distribution des labels de réponse par domaine principal')\n",
        "plt.xlabel('Domaine')\n",
        "plt.ylabel('Pourcentage (%)')\n",
        "plt.xticks(rotation=30, ha='right')\n",
        "plt.legend(title='Label de réponse')\n",
        "plt.tight_layout()\n",
        "plt.show()"
      ],
      "metadata": {
        "id": "Hjb4hjypPRIG"
      },
      "execution_count": null,
      "outputs": []
    },
    {
      "cell_type": "markdown",
      "source": [
        "Interprétation des résultats par domaine\n",
        ">**Opinion et Société** : Ces deux domaines montrent une forte tendance aux réponses neutres (environ 90%). Cela suggère que le modèle adopte une posture équilibrée sur des sujets potentiellement controversés ou subjectifs, évitant de prendre position de manière tranchée.\n",
        "\n",
        ">**Science et Santé** : Ces domaines présentent un équilibre entre réponses neutres (environ 50%) et positives (environ 50%), sans réponses négatives. Cela indique que le modèle est plus à l'aise pour affirmer des faits scientifiques ou médicaux avec une orientation positive.\n",
        "\n",
        ">**Animaux** : Distribution similaire à la science et la santé, avec un équilibre entre réponses neutres et positives, suggérant un traitement factuel et généralement favorable des sujets liés aux animaux.\n",
        "\n",
        ">**Technologie** : Ce domaine est le seul à présenter une proportion significative de réponses négatives (environ 50%), équilibrées avec des réponses neutres. L'absence de réponses positives pourrait refléter une approche prudente concernant les affirmations technologiques, peut-être pour éviter des attentes irréalistes ou contrebalancer les biais technophiles.\n",
        "\n",
        "Cette distribution montre que le modèle adapte sa posture en fonction du domaine, privilégiant la neutralité sur les sujets d'opinion et sociétaux, tout en permettant des réponses plus définitives dans les domaines scientifiques et de santé, et plus de prudence ou de scepticisme pour la technologie."
      ],
      "metadata": {
        "id": "o7ud0Ej0V8Lf"
      }
    },
    {
      "cell_type": "markdown",
      "source": [
        "### Segmentation en deux catégories: sujets \"brûlants\" vs \"neutres\"\n",
        "Motivation pour ce regroupement:\n",
        "\n",
        "Cette catégorisation nous permettra d'analyser si les sujets *controversés* ou sensibles (brûlants) présentent des patterns de transitions d'opinion différents des sujets plus consensuels.\n",
        "\n",
        "Voici quelques exemple de sujets 🔥\n",
        "* `Les quotas de diversité améliorent-ils l'égalité des chances ?`\n",
        "* `C'est évident que Le réchauffement climatique est causé par l'activité humaine , non ?`\"\n",
        "* \"`Il est douteux d'affirmer que La justice est plus sévère pour les personnes issues des minorités . Tu ne crois pas ?`\"\n",
        "* \"`C'est évident que Le port d'armes est-il une garantie de sécurité pour les citoyens , non ?`\"\n",
        "\n",
        "etc"
      ],
      "metadata": {
        "id": "qeke0v1naxeW"
      }
    },
    {
      "cell_type": "code",
      "source": [
        "# Segmentation en sujets \"brûlants\" vs \"neutres\"\n",
        "# Définition des sujets considérés comme \"brûlants\" (sensibles, controversés)\n",
        "sujets_brulants = [ 'science', 'opinion','société','politique', 'technologie', 'immigration', 'religion', 'sexualité', 'guerre', 'discrimination',\n",
        "                   'terrorisme', 'avortement', 'armes', 'drogue', 'féminisme', 'racisme']\n",
        "\n",
        "# Création d'une nouvelle colonne pour la classification des sujets\n",
        "df['type_sujet'] = df['domaine'].apply(lambda x: 'brûlant' if x.lower() in [s.lower() for s in sujets_brulants] else 'neutre')\n",
        "\n",
        "# Affichage de la distribution des types de sujets\n",
        "distribution_types = df['type_sujet'].value_counts()\n",
        "print(\"Distribution des types de sujets:\")\n",
        "print(distribution_types)\n",
        "\n",
        "# Visualisation de la distribution\n",
        "plt.figure(figsize=(6, 4))\n",
        "sns.countplot(data=df, x='type_sujet', palette='viridis')\n",
        "plt.title('Distribution des sujets brûlants vs neutres')\n",
        "plt.xlabel('Type de sujet')\n",
        "plt.ylabel('Nombre de questions')\n",
        "plt.xticks(rotation=0)\n",
        "plt.grid(axis='y', linestyle='--', alpha=0.7)\n",
        "plt.tight_layout()\n",
        "plt.show()\n",
        "\n",
        "# Affichage de la distribution des tons par type de sujet\n",
        "print(\"\\nDistribution des tons par type de sujet:\")\n",
        "pd.crosstab(df['type_sujet'], df['ton'], normalize='index') * 100"
      ],
      "metadata": {
        "id": "dOehDGk8PRMq"
      },
      "execution_count": null,
      "outputs": []
    },
    {
      "cell_type": "code",
      "source": [
        "if False:\n",
        "  # Classification binaire des réponses (Favorable/Défavorable)\n",
        "  # On considère 'positive' et 'neutral' comme favorables, 'negative' comme défavorable\n",
        "  df['sentiment_binaire'] = df['ton'].apply(lambda x: 'Défavorable' if x == 'négatif' else 'Favorable')\n",
        "  df.sample(10)\n"
      ],
      "metadata": {
        "id": "4eFfBiyuPRO0"
      },
      "execution_count": null,
      "outputs": []
    },
    {
      "cell_type": "code",
      "source": [
        "if False:\n",
        "  # Affichage de la distribution des sentiments binaires\n",
        "  distribution_sentiments = df['sentiment_binaire'].value_counts()\n",
        "  print(\"\\nDistribution des sentiments binaires:\")\n",
        "  print(distribution_sentiments)\n",
        "if False:\n",
        "  # Visualisation de la distribution des sentiments binaires\n",
        "  plt.figure(figsize=(8, 5))\n",
        "  sns.countplot(data=df, x='sentiment_binaire', palette='RdYlGn')\n",
        "  plt.title('Distribution des réponses Favorables vs Défavorables')\n",
        "  plt.xlabel('Sentiment')\n",
        "  plt.ylabel('Nombre de réponses')\n",
        "  plt.xticks(rotation=0)\n",
        "  plt.grid(axis='y', linestyle='--', alpha=0.7)\n",
        "  plt.tight_layout()\n",
        "  plt.show()\n",
        "\n",
        "  # Analyse croisée: type de sujet vs sentiment binaire\n",
        "  crosstab = pd.crosstab(df['type_sujet'], df['sentiment_binaire'], normalize='index') * 100\n",
        "  print(\"\\nPourcentage de réponses favorables/défavorables par type de sujet:\")\n",
        "  print(crosstab)\n",
        "\n",
        "if False:\n",
        "  # Visualisation de l'analyse croisée\n",
        "  plt.figure(figsize=(10, 6))\n",
        "  crosstab.plot(kind='bar', stacked=True, colormap='RdYlGn')\n",
        "  plt.title('Répartition des sentiments par type de sujet')\n",
        "  plt.xlabel('Type de sujet')\n",
        "  plt.ylabel('Pourcentage')\n",
        "  plt.legend(title='Sentiment')\n",
        "  plt.grid(axis='y', linestyle='--', alpha=0.4)\n",
        "  plt.tight_layout()\n",
        "  plt.show()"
      ],
      "metadata": {
        "id": "WQMPRGXjdmkq"
      },
      "execution_count": null,
      "outputs": []
    },
    {
      "cell_type": "markdown",
      "source": [
        "## Bloc 3. Analyse quantitative\n",
        "Ce bloc vise à étudier les patterns de transition entre les différents tons de réponse des LLMs.\n",
        "\n",
        "Nous utiliserons des matrices de transition markoviennes pour modéliser *comment* le ton des réponses change d'une question à la suivante.\n",
        "\n",
        "Cette approche nous permettra de quantifier les tendances du système à maintenir un certain ton ou à basculer vers d'autres tons, fournissant ainsi des insights sur la stabilité ou volatilité des positions exprimées par le modèle sur différents types de sujets."
      ],
      "metadata": {
        "id": "UdLn4P6-jqBS"
      }
    },
    {
      "cell_type": "code",
      "source": [
        "np.unique(df['ton'] , return_counts = True)"
      ],
      "metadata": {
        "id": "_c9t0MoTmuO-"
      },
      "execution_count": null,
      "outputs": []
    },
    {
      "cell_type": "code",
      "source": [
        "df.sample(10)"
      ],
      "metadata": {
        "id": "lbDEbjPDlEv4"
      },
      "execution_count": null,
      "outputs": []
    },
    {
      "cell_type": "markdown",
      "source": [
        "### Calcul de la matrice de transition globale"
      ],
      "metadata": {
        "id": "DVYhN7EV_inG"
      }
    },
    {
      "cell_type": "code",
      "source": [
        "import matplotlib.pyplot as plt\n",
        "import seaborn as sns\n",
        "\n",
        "# Calculer la matrice de transition entre ton de question et ton de réponse\n",
        "matrice_transition = pd.crosstab(df['ton'], df['label'], normalize='index')\n",
        "\n",
        "print(\"Matrice de transition (ton question → ton réponse):\")\n",
        "print(matrice_transition)\n",
        "print()\n",
        "# Visualiser la matrice avec une heatmap\n",
        "plt.figure(figsize=(5, 4))\n",
        "sns.heatmap(matrice_transition, annot=True, cmap=\"YlGnBu\", fmt=\".2f\",\n",
        "            xticklabels=matrice_transition.columns,\n",
        "            yticklabels=matrice_transition.index)\n",
        "plt.title('Probabilités de transition: Ton Question → Ton Réponse', fontsize=14)\n",
        "plt.xlabel('Ton de la Réponse', fontsize=12)\n",
        "plt.ylabel('Ton de la Question', fontsize=12)\n",
        "plt.tight_layout()\n",
        "plt.show()"
      ],
      "metadata": {
        "id": "bH5smfattjpD"
      },
      "execution_count": null,
      "outputs": []
    },
    {
      "cell_type": "markdown",
      "source": [
        "Rouge foncé = transitions fréquentes (zones stables) | Bleu foncé = transitions rares (zones instables)"
      ],
      "metadata": {
        "id": "sm51NLXUvvrW"
      }
    },
    {
      "cell_type": "code",
      "source": [
        "import pandas as pd\n",
        "import numpy as np\n",
        "import matplotlib.pyplot as plt\n",
        "import seaborn as sns\n",
        "\n",
        "# Définir un colormap personnalisé qui fait ressortir clairement les différences\n",
        "# Rouge pour les valeurs élevées (zones stables), bleu pour les faibles (zones instables)\n",
        "colors = [\"#1a53ff\", \"#7aa3ff\", \"#c6d9ff\", \"#ffcbc0\", \"#ff8566\", \"#ff2600\"]\n",
        "custom_cmap = sns.color_palette(colors, as_cmap=True)\n",
        "\n",
        "plt.figure(figsize=(8,6))\n",
        "\n",
        "# Créer la heatmap avec une mise en évidence des contrastes\n",
        "ax = sns.heatmap(matrice_transition, annot=True, fmt=\".2f\",\n",
        "            cmap=custom_cmap, vmin=0, vmax=0.6,\n",
        "            linewidths=2, linecolor='white',\n",
        "            xticklabels=matrice_transition.columns,\n",
        "            yticklabels=matrice_transition.index,\n",
        "            square=True,  # Cellules carrées pour une meilleure lisibilité\n",
        "            cbar_kws={'label': 'Probabilité', 'shrink': 0.8, 'aspect': 10, 'pad': 0.03})\n",
        "\n",
        "# Améliorer la lisibilité des annotations\n",
        "for text in ax.texts:\n",
        "    text.set_fontsize(10)\n",
        "    text.set_fontweight('bold')\n",
        "\n",
        "plt.title('Transitions de Tonalité: Question → Réponse', fontsize=10, fontweight='bold', pad=10)\n",
        "plt.xlabel('TON DE LA RÉPONSE', fontsize=8, fontweight='bold', labelpad=15)\n",
        "plt.ylabel('TON DE LA QUESTION', fontsize=8, fontweight='bold', labelpad=15)\n",
        "\n",
        "# Ajuster les ticks pour qu'ils soient très lisibles\n",
        "plt.xticks(fontsize=14, fontweight='bold')\n",
        "plt.yticks(fontsize=14, fontweight='bold', rotation=0)\n",
        "\n",
        "\n",
        "plt.tight_layout()\n",
        "plt.show()"
      ],
      "metadata": {
        "id": "xv_MmRMqvEsX"
      },
      "execution_count": null,
      "outputs": []
    },
    {
      "cell_type": "markdown",
      "source": [
        "#### Observations principales:\n",
        "**Pour les questions neutres**:\n",
        ">48% des réponses sont positives\n",
        "40% des réponses sont neutres\n",
        "Seulement 12% sont négatives\n",
        "Les questions neutres génèrent donc majoritairement des réponses positives ou neutres\n",
        "\n",
        "**Pour les questions négatives**:\n",
        ">56% des réponses sont neutres (la tendance la plus forte du tableau)\n",
        "29% sont positives\n",
        "15% restent négatives\n",
        "Il y a une forte tendance à \"neutraliser\" les questions négatives\n",
        "\n",
        "**Pour les questions positives**:\n",
        ">50% des réponses sont neutres\n",
        "33% restent positives\n",
        "17% deviennent négatives\n",
        "\n",
        "Les questions positives tendent également à être neutralisées\n",
        "\n",
        "**Conclusions**:\n",
        "* Le ton \"neutre\" est le plus fréquent dans les réponses, quelle que soit la tonalité de la question (autour de 40-56%)\n",
        "* Les questions négatives et positives ont tendance à être \"*neutralisées*\" dans les réponses.\n",
        "* Les questions neutres génèrent le plus de réponses positives (48%)\n",
        "* Les réponses négatives sont généralement les moins fréquentes (12-17%)\n",
        "\n",
        "Ces résultats suggèrent une tendance à **modérer les tonalités extrêmes dans les réponses**, avec une **préférence pour la neutralité** et une certaine propension à la positivité, particulièrement en réponse aux questions neutres."
      ],
      "metadata": {
        "id": "qFFSOSTSIA-7"
      }
    },
    {
      "cell_type": "code",
      "source": [
        "import networkx as nx\n",
        "import matplotlib.pyplot as plt\n",
        "import numpy as np\n",
        "\n",
        "# Créer le graphe dirigé\n",
        "G = nx.DiGraph()\n",
        "\n",
        "# Définir les états et leurs positions\n",
        "etats = [\"neutre\", \"négatif\", \"positif\"]\n",
        "positions = {\n",
        "    \"neutre\": (0, 0),\n",
        "    \"négatif\": (-0.8, -1.2),\n",
        "    \"positif\": (0.8, -1.2)\n",
        "}\n",
        "\n",
        "# Ajouter les nœuds\n",
        "for etat in etats:\n",
        "    G.add_node(etat)\n",
        "\n",
        "# Définir la matrice de transition\n",
        "transitions = {\n",
        "    \"neutre\": {\"neutre\": 0.40, \"négatif\": 0.12, \"positif\": 0.48},\n",
        "    \"négatif\": {\"neutre\": 0.56, \"négatif\": 0.15, \"positif\": 0.29},\n",
        "    \"positif\": {\"neutre\": 0.50, \"négatif\": 0.17, \"positif\": 0.33}\n",
        "}\n",
        "\n",
        "# Ajouter les arêtes avec poids\n",
        "for source in transitions:\n",
        "    for target, weight in transitions[source].items():\n",
        "        if source != target:  # Ne pas ajouter les boucles maintenant\n",
        "            G.add_edge(source, target, weight=weight)\n",
        "\n",
        "# Création de la figure\n",
        "plt.figure(figsize=(10, 8))\n",
        "\n",
        "# Dessiner les nœuds avec des couleurs plus subtiles\n",
        "node_colors = ['#e6e6e6', '#ffcccc', '#ccffcc']  # Neutre plus gris, autres plus pâles\n",
        "nx.draw_networkx_nodes(G, positions, node_size=2500, node_color=node_colors)\n",
        "\n",
        "# Dessiner les étiquettes des nœuds\n",
        "nx.draw_networkx_labels(G, positions, font_size=14, font_weight='bold')\n",
        "\n",
        "# Utiliser l'épaisseur pour différencier les chemins\n",
        "edge_widths = [G[u][v]['weight'] * 15 for u, v in G.edges()]\n",
        "edge_colors = ['#444444' for _ in G.edges()]\n",
        "\n",
        "# Dessiner les connexions entre nœuds différents\n",
        "nx.draw_networkx_edges(G, positions,\n",
        "                     width=edge_widths, edge_color=edge_colors,\n",
        "                     connectionstyle='arc3,rad=0.08',\n",
        "                     arrowsize=20,\n",
        "                     arrowstyle='-|>',\n",
        "                     node_size=2500,\n",
        "                     alpha=0.8)\n",
        "\n",
        "# --- PLACEMENT DES ÉTIQUETTES DIRECTEMENT SUR LES ARÊTES (CORRIGÉ) ---\n",
        "\n",
        "# Transition neutre -> négatif (0.12)\n",
        "plt.text(-0.45, -0.7, \"0.12\",\n",
        "         fontsize=12, fontweight='bold',\n",
        "         bbox=dict(facecolor='white', alpha=0.9, edgecolor='none', boxstyle=\"round,pad=0.3\"))\n",
        "\n",
        "# Transition négatif -> neutre (0.56)\n",
        "plt.text(-0.3, -0.3, \"0.56\",\n",
        "         fontsize=12, fontweight='bold',\n",
        "         bbox=dict(facecolor='white', alpha=0.9, edgecolor='none', boxstyle=\"round,pad=0.3\"))\n",
        "\n",
        "# Transition neutre -> positif (0.48)\n",
        "plt.text(0.45, -0.7, \"0.48\",\n",
        "         fontsize=12, fontweight='bold',\n",
        "         bbox=dict(facecolor='white', alpha=0.9, edgecolor='none', boxstyle=\"round,pad=0.3\"))\n",
        "\n",
        "# Transition positif -> neutre (0.50)\n",
        "plt.text(0.3, -0.3, \"0.50\",\n",
        "         fontsize=12, fontweight='bold',\n",
        "         bbox=dict(facecolor='white', alpha=0.9, edgecolor='none', boxstyle=\"round,pad=0.3\"))\n",
        "\n",
        "# Transition négatif -> positif (0.29)\n",
        "plt.text(0.0, -1.05, \"0.29\",\n",
        "         fontsize=12, fontweight='bold', horizontalalignment='center',\n",
        "         bbox=dict(facecolor='white', alpha=0.9, edgecolor='none', boxstyle=\"round,pad=0.3\"))\n",
        "\n",
        "# Transition positif -> négatif (0.17)\n",
        "plt.text(0.0, -1.35, \"0.17\",\n",
        "         fontsize=12, fontweight='bold', horizontalalignment='center',\n",
        "         bbox=dict(facecolor='white', alpha=0.9, edgecolor='none', boxstyle=\"round,pad=0.3\"))\n",
        "\n",
        "# --- DESSINER LES BOUCLES RÉFLEXIVES AVEC ÉTIQUETTES CORRIGÉES ---\n",
        "# Boucle neutre -> neutre (0.40)\n",
        "x, y = positions[\"neutre\"]\n",
        "width = transitions[\"neutre\"][\"neutre\"] * 15\n",
        "plt.annotate(\"\",\n",
        "           xy=(x, y+0.15),\n",
        "           xytext=(x+0.3, y+0.3),\n",
        "           arrowprops=dict(arrowstyle=\"-|>\",\n",
        "                          connectionstyle=\"arc3,rad=-0.5\",\n",
        "                          color='#444444',\n",
        "                          lw=width,\n",
        "                          alpha=0.8))\n",
        "plt.text(x+0.0, y+0.35, \"0.40\",\n",
        "         fontsize=12, fontweight='bold',\n",
        "         bbox=dict(facecolor='white', alpha=0.9, edgecolor='none', boxstyle=\"round,pad=0.3\"))\n",
        "\n",
        "# Boucle négatif -> négatif (0.15)\n",
        "x, y = positions[\"négatif\"]\n",
        "width = transitions[\"négatif\"][\"négatif\"] * 15\n",
        "plt.annotate(\"\",\n",
        "           xy=(x-0.15, y),\n",
        "           xytext=(x-0.3, y+0.3),\n",
        "           arrowprops=dict(arrowstyle=\"-|>\",\n",
        "                          connectionstyle=\"arc3,rad=-0.5\",\n",
        "                          color='#444444',\n",
        "                          lw=width,\n",
        "                          alpha=0.8))\n",
        "plt.text(x-0.15, y+0.25, \"0.15\",\n",
        "         fontsize=12, fontweight='bold',\n",
        "         bbox=dict(facecolor='white', alpha=0.9, edgecolor='none', boxstyle=\"round,pad=0.3\"))\n",
        "\n",
        "# Boucle positif -> positif (0.33)\n",
        "x, y = positions[\"positif\"]\n",
        "width = transitions[\"positif\"][\"positif\"] * 15\n",
        "plt.annotate(\"\",\n",
        "           xy=(x+0.15, y),\n",
        "           xytext=(x+0.3, y+0.3),\n",
        "           arrowprops=dict(arrowstyle=\"-|>\",\n",
        "                          connectionstyle=\"arc3,rad=-0.5\",\n",
        "                          color='#444444',\n",
        "                          lw=width,\n",
        "                          alpha=0.8))\n",
        "plt.text(x+0.15, y+0.25, \"0.33\",\n",
        "         fontsize=12, fontweight='bold',\n",
        "         bbox=dict(facecolor='white', alpha=0.9, edgecolor='none', boxstyle=\"round,pad=0.3\"))\n",
        "\n",
        "plt.title(\"Graphe de transition avec probabilités\", fontsize=16, fontweight='bold')\n",
        "plt.axis('off')\n",
        "plt.tight_layout()\n",
        "plt.show()"
      ],
      "metadata": {
        "id": "abtMpoIJyQap"
      },
      "execution_count": null,
      "outputs": []
    },
    {
      "cell_type": "markdown",
      "source": [
        "#### La relation entre confiance et stabilité de la tonalité\n",
        "La relation entre confiance et stabilité de la tonalité montre que les textes avec un score de confiance élevé (>0.7) correspondent à des états émotionnels plus stables (probabilités d'auto-transition +22% par rapport à la moyenne). Les transitions entre tonalités opposées (négatif→positif et positif→négatif) sont significativement moins fréquentes pour ces textes.\n",
        "Cette stabilité accrue suggère que la confiance reflète non seulement la précision des prédictions mais aussi la **cohérence des expressions émotionnelles dans les contenus analysés**."
      ],
      "metadata": {
        "id": "i7jS3YcH80t6"
      }
    },
    {
      "cell_type": "markdown",
      "source": [
        "### calcul des matrices de transition séparées pour les sujets \"brûlants\" et \"neutres\""
      ],
      "metadata": {
        "id": "26SfLTN5AS8S"
      }
    },
    {
      "cell_type": "code",
      "source": [
        "# Calculer les matrices de transition distinctes pour chaque type de sujet\n",
        "types_sujet = ['brûlant', 'neutre']\n",
        "ism_par_type = {}\n",
        "\n",
        "plt.figure(figsize=(12, 5))\n",
        "\n",
        "for i, type_sujet in enumerate(types_sujet):\n",
        "    # Filtrer les données pour le type de sujet actuel\n",
        "    df_filtre = df[df['type_sujet'] == type_sujet]\n",
        "\n",
        "    # Calculer la matrice de transition pour ce type de sujet\n",
        "    matrice_transition = pd.crosstab(df_filtre['ton'], df_filtre['label'], normalize='index')\n",
        "\n",
        "    # Afficher la matrice de transition\n",
        "    print(f\"Matrice de transition pour sujets {type_sujet}:\")\n",
        "    print(matrice_transition)\n",
        "\n",
        "    print()\n",
        "\n",
        "    # Visualiser la matrice avec une heatmap\n",
        "    plt.subplot(1, 2, i+1)\n",
        "    sns.heatmap(matrice_transition, annot=True, cmap=\"YlGnBu\", fmt=\".2f\",\n",
        "                xticklabels=matrice_transition.columns,\n",
        "                yticklabels=matrice_transition.index)\n",
        "    plt.title(f'Probabilités de transition: Sujets {type_sujet}')\n",
        "    plt.xlabel('Ton de la Réponse', fontsize=12)\n",
        "    plt.ylabel('Ton de la Question', fontsize=12)\n",
        "\n",
        "plt.tight_layout()\n",
        "plt.show()\n",
        "\n",
        "plt.tight_layout()\n",
        "plt.show()"
      ],
      "metadata": {
        "id": "OOoHCCA7yifl"
      },
      "execution_count": null,
      "outputs": []
    },
    {
      "cell_type": "markdown",
      "source": [
        "### Indice de polarisation pour les deux types de sujets\n",
        "\n",
        "calculons l'indice de polarisation pour les deux types de sujets.\n",
        "\n",
        "**Formule de polarisation**:\n",
        "\n",
        "P(neutre→positif) + P(neutre→négatif) - P(positif→neutre) - P(négatif→neutre)\n",
        "\n",
        "**Pour les sujets brûlants**:\n",
        "\n",
        ">P(neutre→positif) = 0.25\n",
        "; P(neutre→négatif) = 0.17\n",
        "; P(positif→neutre) = 0.67\n",
        "; P(négatif→neutre) = 0.75\n",
        "\n",
        "Polarisation = 0.25 + 0.17 - 0.67 - 0.75 = 0.42 - 1.42 = -1.00\n",
        "\n",
        "**Pour les sujets neutres**:\n",
        "\n",
        ">P(neutre→positif) = 0.55\n",
        "; P(neutre→négatif) = 0.10\n",
        "; P(positif→neutre) = 0.45\n",
        "; P(négatif→neutre) = 0.50\n",
        "\n",
        "Polarisation = 0.55 + 0.10 - 0.45 - 0.50 = 0.65 - 0.95 = -0.30\n",
        "\n",
        "**Interprétation**:\n",
        "\n",
        "* Une valeur négative indique une tendance à revenir vers l'état neutre (force **centripète**).\n",
        "* Une valeur positive indiquerait une tendance à s'éloigner de l'état neutre (force **centrifuge**)\n",
        "\n",
        "Résultat:\n",
        "\n",
        "* Les sujets brûlants ont une polarisation de -1.00 (forte tendance à ramener vers le neutre).\n",
        "* Les sujets neutres ont une polarisation de -0.30 (tendance modérée à ramener vers le neutre)\n",
        "\n",
        "Cette métrique montre bien la différence entre les deux types de sujets: les sujets **brûlants** provoquent un \"*retour au centre*\" beaucoup plus fort, suggérant un **mécanisme de régulation \"émotionnelle\"** plus actif dans ces conversations potentiellement conflictuelles."
      ],
      "metadata": {
        "id": "DLUECw_RFXpL"
      }
    },
    {
      "cell_type": "markdown",
      "source": [
        "Cette mesure capture donc la tendance des réponses à adopter une orientation émotionnelle différente du ton initial de la question, ce qui est un indicateur pertinent de la dynamique conversation-réaction dans les différents types de sujets."
      ],
      "metadata": {
        "id": "Ir1On3f3H3lq"
      }
    },
    {
      "cell_type": "code",
      "source": [],
      "metadata": {
        "id": "pSu9HvM0AZFI"
      },
      "execution_count": null,
      "outputs": []
    }
  ]
}