{
  "nbformat": 4,
  "nbformat_minor": 0,
  "metadata": {
    "colab": {
      "private_outputs": true,
      "provenance": []
    },
    "kernelspec": {
      "name": "python3",
      "display_name": "Python 3"
    },
    "language_info": {
      "name": "python"
    }
  },
  "cells": [
    {
      "cell_type": "markdown",
      "source": [
        "# Partie 3 - Étude des Déplacements de Réponses LLM par Rapport à un Référentiel Neutre\n"
      ],
      "metadata": {
        "id": "jS2VbMzDHuoO"
      }
    },
    {
      "cell_type": "markdown",
      "source": [
        "## Introduction et objectif\n",
        "Ce notebook constitue le prolongement méthodologique de notre première étude (notebook Partie 2) sur les matrices de transition *ton question - valence réponse* des grands modèles de langage (LLM). Alors que notre travail initial a identifié des patterns significatifs dans la façon dont les LLMs répondent à des questions formulées avec différentes tonalités, cette nouvelle analyse vise à **quantifier avec précision l'influence spécifique du ton sur les réponses**.\n",
        "\n"
      ],
      "metadata": {
        "id": "1SSOClYsIvsy"
      }
    },
    {
      "cell_type": "markdown",
      "source": [
        "**Objectifs spécifiques**:\n",
        "* Mesurer les déplacements des réponses par rapport à un **référentiel neutre** pour isoler l'effet du ton\n",
        "* Quantifier l'amplitude et la direction des déviations induites par les tonalités positive et négative\n",
        "* Comparer ces déplacements entre **sujets banals** et **sujets sensibles/controversés**\n",
        "* Vérifier si il y a une relation causale entre la tonalité d'une question et la déviation de la réponse par rapport à la position neutre.\n",
        "\n",
        "Cette approche *méthodologique* robuste nous permettra de distinguer l'influence du ton de celle du contenu substantiel de la question, en utilisant systématiquement la réponse à la formulation neutre comme point de référence pour chaque question."
      ],
      "metadata": {
        "id": "I-JcjadvJEQR"
      }
    },
    {
      "cell_type": "code",
      "execution_count": null,
      "metadata": {
        "id": "W9L0h58eHrjY"
      },
      "outputs": [],
      "source": [
        "import pandas as pd\n",
        "import numpy as np\n",
        "import matplotlib.pyplot as plt\n",
        "import seaborn as sns\n",
        "from collections import defaultdict, Counter\n",
        "import networkx as nx\n",
        "from tqdm.notebook import tqdm\n",
        "\n",
        "# Pour une meilleure visualisation\n",
        "plt.style.use('seaborn-v0_8-whitegrid')\n",
        "plt.rcParams['figure.figsize'] = (12, 8)\n",
        "plt.rcParams['font.size'] = 12\n",
        "\n",
        "# Définir la graine aléatoire pour la reproductibilité\n",
        "np.random.seed(42)"
      ]
    },
    {
      "cell_type": "code",
      "source": [
        "# Paramètres globaux\n",
        "VERBOSE = True\n",
        "SEUIL_CONFIANCE = 0.7  # Seuil pour considérer une réponse comme \"confiante\""
      ],
      "metadata": {
        "id": "Tsf2EwaZPGSQ"
      },
      "execution_count": null,
      "outputs": []
    },
    {
      "cell_type": "markdown",
      "source": [
        "## 📦 Bloc 1 – Configuration et chargement des données\n",
        "\n",
        "Dans cette première partie, nous allons charger les données générées lors de notre première expérience. Pour rappel, ces données contiennent les questions posées à ChatGPT avec différents tons, ainsi que les réponses obtenues et leur classification.\n",
        "\n",
        "Le fichier attendu est `output-LLM-responses-v3.csv`, généré lors de la partie 1 de notre analyse. Ce fichier contient plusieurs colonnes importantes :\n",
        "- Le `domaine` de la question (science, société, santé, etc.)\n",
        "- `question` : le texte de la question posée\n",
        "- `ton` : le ton utilisé pour poser la question\n",
        "- `reponse` : la réponse fournie par ChatGPT\n",
        "- `label` : la classification de la réponse, le `label` attribué à la réponse (`positif, négatif, neutre`)\n",
        "- `confidence` : le niveau de confiance de la classification\n"
      ],
      "metadata": {
        "id": "NU9g2oiNQFN1"
      }
    },
    {
      "cell_type": "code",
      "source": [
        "# Chargement des données\n",
        "try:\n",
        "    df = pd.read_csv(\"output-LLM-responses-v3.csv\" , sep=',')\n",
        "    # Suppression des colonnes vides ou inutiles\n",
        "    df = df.drop(columns=['tonalité', 'Unnamed: 6'], errors='ignore')\n",
        "    print(f\"Données chargées : {df.shape[0]} questions analysées\")\n",
        "except FileNotFoundError:\n",
        "    print(\"❌ Fichier de données non trouvé. Vérifiez que le notebook partie 1 a bien été exécuté.\")"
      ],
      "metadata": {
        "id": "uBYx7uADPQ_G"
      },
      "execution_count": null,
      "outputs": []
    },
    {
      "cell_type": "code",
      "source": [
        "df.info()"
      ],
      "metadata": {
        "id": "k3Sipqx2Ri2b"
      },
      "execution_count": null,
      "outputs": []
    },
    {
      "cell_type": "code",
      "source": [
        "df.head(10)"
      ],
      "metadata": {
        "id": "HkJ3x6hZRck1"
      },
      "execution_count": null,
      "outputs": []
    },
    {
      "cell_type": "code",
      "source": [
        "# visualiser un exemple\n",
        "import random\n",
        "for bcl in range(5):\n",
        "  idx = random.randint(0 , df.shape[0])\n",
        "  print('Question ', idx , ' : ', 'ton '  , df.iloc[idx]['ton'], ' : ' ,df.iloc[idx]['question'])"
      ],
      "metadata": {
        "id": "n1AJChMpgSEk"
      },
      "execution_count": null,
      "outputs": []
    },
    {
      "cell_type": "code",
      "source": [
        "df.iloc[30:40]"
      ],
      "metadata": {
        "id": "2OlfeHyTcJCm"
      },
      "execution_count": null,
      "outputs": []
    },
    {
      "cell_type": "markdown",
      "source": [
        "##Organisation des triplets de questions\n",
        "Dans cette étude, nous analysons l'influence du ton sur les réponses du LLM en utilisant des triplets de questions.\n",
        "Chaque triplet contient la même question formulée avec trois tonalités différentes (`positive, neutre, négative`). Pour faciliter cette analyse, nous ajoutons un identifiant de groupe (`group_id`) à notre jeu de données, permettant d'identifier rapidement les trois variantes tonales d'une même question substantielle.\n",
        "\n",
        "Cette structure nous permet d'utiliser systématiquement la **version neutre comme référence** pour mesurer les déplacements induits par les tonalités positive et négative."
      ],
      "metadata": {
        "id": "WBUDhZmhRkwO"
      }
    },
    {
      "cell_type": "code",
      "source": [
        "# id de groupe pour repérer chq triplet ....\n",
        "df['group_id'] = df.index // 3"
      ],
      "metadata": {
        "id": "COfVN4ziR1G2"
      },
      "execution_count": null,
      "outputs": []
    },
    {
      "cell_type": "code",
      "source": [
        "df.tail(3)"
      ],
      "metadata": {
        "id": "ZVAb34JJTPg-"
      },
      "execution_count": null,
      "outputs": []
    },
    {
      "cell_type": "code",
      "source": [
        "# Vérification que chaque groupe contient bien les 3 tonalités\n",
        "group_counts = df.groupby('group_id')['ton'].nunique()\n",
        "if (group_counts != 3).any():\n",
        "    print(\"⚠️ Attention: Certains groupes n'ont pas exactement 3 tonalités!\")\n",
        "else:\n",
        "    print(\"✅ Tous les groupes contiennent les 3 tonalités (positif, neutre, négatif)\")"
      ],
      "metadata": {
        "id": "jCLDzDrpX8Nj"
      },
      "execution_count": null,
      "outputs": []
    },
    {
      "cell_type": "code",
      "source": [
        "group_counts"
      ],
      "metadata": {
        "id": "D6Ra_1LYpOrO"
      },
      "execution_count": null,
      "outputs": []
    },
    {
      "cell_type": "code",
      "source": [
        "# Créer un DataFrame réorganisé, avec une ligne par groupe et les informations des 3 questions/réponses\n",
        "triplets = []\n",
        "\n",
        "for group_id, group_df in df.groupby('group_id'):\n",
        "    # Récupérer les données par tonalité\n",
        "    positif = group_df[group_df['ton'] == 'positif'].iloc[0] if not group_df[group_df['ton'] == 'positif'].empty else None\n",
        "    neutre = group_df[group_df['ton'] == 'neutre'].iloc[0] if not group_df[group_df['ton'] == 'neutre'].empty else None\n",
        "    negatif = group_df[group_df['ton'] == 'négatif'].iloc[0] if not group_df[group_df['ton'] == 'négatif'].empty else None\n",
        "\n",
        "    # Vérifier que nous avons bien les 3 tonalités\n",
        "    if positif is not None and neutre is not None and negatif is not None:\n",
        "        triplet = {\n",
        "            'group_id': group_id,\n",
        "            'domaine': neutre['domaine'],\n",
        "            'question_base': neutre['question'],  # Utiliser la question neutre comme base\n",
        "\n",
        "            # Questions\n",
        "            'question_positif': positif['question'],\n",
        "            'question_neutre': neutre['question'],\n",
        "            'question_negatif': negatif['question'],\n",
        "\n",
        "            # Réponses\n",
        "            'reponse_positif': positif['reponse'],\n",
        "            'reponse_neutre': neutre['reponse'],\n",
        "            'reponse_negatif': negatif['reponse'],\n",
        "\n",
        "            # Labels\n",
        "            'label_positif': positif['label'],\n",
        "            'label_neutre': neutre['label'],\n",
        "            'label_negatif': negatif['label'],\n",
        "\n",
        "            # Confiance\n",
        "            'conf_positif': positif['confidence'],\n",
        "            'conf_neutre': neutre['confidence'],\n",
        "            'conf_negatif': negatif['confidence'],\n",
        "\n",
        "            # Sensibilité (si présente)\n",
        "            'sensible': neutre.get('sensible', None)\n",
        "        }\n",
        "        triplets.append(triplet)\n"
      ],
      "metadata": {
        "id": "5egHPtt6crZI"
      },
      "execution_count": null,
      "outputs": []
    },
    {
      "cell_type": "code",
      "source": [
        "triplets"
      ],
      "metadata": {
        "id": "2P5_iW44dXSr"
      },
      "execution_count": null,
      "outputs": []
    },
    {
      "cell_type": "code",
      "source": [
        "# Conversion en dataframe\n",
        "triplets_df = pd.DataFrame(triplets)"
      ],
      "metadata": {
        "id": "lc1h-SEZh8x7"
      },
      "execution_count": null,
      "outputs": []
    },
    {
      "cell_type": "code",
      "source": [
        "triplets_df['domaine'].unique()"
      ],
      "metadata": {
        "id": "UWsc3t5ZiAPh"
      },
      "execution_count": null,
      "outputs": []
    },
    {
      "cell_type": "code",
      "source": [
        "\n",
        "\n",
        "# Ajout d'une colonne pour le type de sujet (sensible ou neutre)\n",
        "if False:#'sensible' in triplets_df.columns:\n",
        "    triplets_df['type_sujet'] = triplets_df['sensible'].apply(lambda x: 'Sensible' if x == 'oui' else 'Neutre')\n",
        "else:\n",
        "    # Si l'information n'est pas disponible, on peut l'inférer à partir du domaine\n",
        "    sensible_domains = ['science', 'opinion', 'société', 'santé', 'technologie',\n",
        "       'éducation', 'politique', 'santé publique', 'justice', 'sécurité',\n",
        "       'genre', 'immigration', 'climat']\n",
        "    triplets_df['type_sujet'] = triplets_df['domaine'].apply(\n",
        "        lambda x: 'sensible' if x.lower() in sensible_domains else 'banal'\n",
        "    )\n",
        "\n",
        "# Affichage (random) pour vérification\n",
        "print(f\"Nombre de triplets: {len(triplets_df)}\")\n",
        "triplets_df.sample(8)#[['group_id', 'domaine', 'question_base', 'label_positif', 'label_neutre', 'label_negatif']].head(3)"
      ],
      "metadata": {
        "id": "oq-2m-rudV1g"
      },
      "execution_count": null,
      "outputs": []
    },
    {
      "cell_type": "markdown",
      "source": [
        "## Matrices de transition avec référentiel neutre"
      ],
      "metadata": {
        "id": "LUkRFN55fGEX"
      }
    },
    {
      "cell_type": "markdown",
      "source": [
        "### Méthode pour la matrice de transition:\n",
        "\n",
        "Pour analyser l'influence de la tonalité sur les réponses, nous allons créer une matrice de transition basée sur le référentiel neutre:\n",
        "\n",
        "Nous prendrons chaque triplet et comparerons les labels des tonalités positive et négative par rapport au label neutre\n",
        "\n",
        "La matrice de transition montrera:\n",
        "\n",
        "* Combien de fois une question neutre avec label X a donné un label Y avec une tonalité positive (changement de label : X -> Y)\n",
        "* Combien de fois une question neutre avec label X a donné un label Z avec une tonalité négative.\n",
        "\n",
        "Cela nous permettra de visualiser si la tonalité provoque un changement de position (par exemple, `neutre → positif` ou `neutre → négatif`) et de quantifier ces \"déplacements\" d'opinion.\n",
        "\n",
        "Cette approche permettra de voir si certaines tonalités influencent le modèle à se déplacer vers une position plus positive ou plus négative."
      ],
      "metadata": {
        "id": "ydqVyHSkfE7f"
      }
    },
    {
      "cell_type": "code",
      "source": [
        "# Création de matrices de transition pour analyser le déplacement depuis la réponse neutre\n",
        "# Nous créons deux matrices: une pour la tonalité positive et une pour la négative\n",
        "\n",
        "# Identifions d'abord tous les labels possibles pour créer nos matrices\n",
        "unique_labels = sorted(df['label'].unique())\n",
        "\n",
        "# Matrice pour la transition neutre → positif\n",
        "matrix_neutre_positif = pd.DataFrame(0, index=unique_labels, columns=unique_labels)\n",
        "\n",
        "# Matrice pour la transition neutre → négatif\n",
        "matrix_neutre_negatif = pd.DataFrame(0, index=unique_labels, columns=unique_labels)\n",
        "\n",
        "# Parcourir chaque groupe pour remplir les matrices\n",
        "for group_id, group in df.groupby('group_id'):\n",
        "    # Récupérer les réponses pour chaque tonalité\n",
        "    neutre_row = group[group['ton'] == 'neutre']\n",
        "    positif_row = group[group['ton'] == 'positif']\n",
        "    negatif_row = group[group['ton'] == 'négatif']\n",
        "\n",
        "    # Vérifier que nous avons bien les trois tonalités\n",
        "    if len(neutre_row) == 1 and len(positif_row) == 1 and len(negatif_row) == 1:\n",
        "        # Récupérer les labels\n",
        "        label_neutre = neutre_row.iloc[0]['label']\n",
        "        label_positif = positif_row.iloc[0]['label']\n",
        "        label_negatif = negatif_row.iloc[0]['label']\n",
        "\n",
        "        # Mettre à jour les matrices\n",
        "        matrix_neutre_positif.loc[label_neutre, label_positif] += 1\n",
        "        matrix_neutre_negatif.loc[label_neutre, label_negatif] += 1"
      ],
      "metadata": {
        "id": "-3mouW3ifX3X"
      },
      "execution_count": null,
      "outputs": []
    },
    {
      "cell_type": "code",
      "source": [
        "matrix_neutre_positif"
      ],
      "metadata": {
        "id": "6Qk2-MHWgMmR"
      },
      "execution_count": null,
      "outputs": []
    },
    {
      "cell_type": "markdown",
      "source": [
        "### Interprétation de la matrice de transition (`neutre_positif`):\n",
        "\n",
        "Cette matrice montre comment les réponses changent lorsqu'on passe d'une question neutre à une question avec **tonalité positive**.\n",
        "\n",
        "#### Exemple:\n",
        "* `'question_neutre'`: `'Changer ses draps chaque semaine réduit-il les allergies'`\n",
        "\n",
        "La réponse du LLM :\n",
        "\n",
        "*  \"`Oui, changer régulièrement ses draps peut aider à réduire les allergies. Les draps peuvent accumuler des allergènes tels que les acariens, les squames d'animaux et le pollen. En les changeant chaque semaine, on réduit l'exposition à ces allergènes, ce qui peut atténuer les symptômes allergiques.`\",\n",
        "\n",
        "Le label de la réponse (ton neutre) : label : `positif`'.\n",
        "\n",
        "Maintenant, **changement de ton** pour la question posée. Le ton devient '`positif`'\n",
        "* `\"C'est évident que changer ses draps chaque semaine réduit les allergies, non ?\"`,\n",
        "\n",
        "La réponse du LLM :\n",
        "\n",
        "* \"`C'est en partie vrai. Changer ses draps chaque semaine peut aider à réduire les allergènes tels que les acariens. Cependant, d'autres facteurs entrent également en jeu dans la réduction des allergies, comme la propreté de l'ensemble de la maison et l'évitement des allergènes spécifiques. Donc, bien que cela puisse aider, changer les draps chaque semaine n'est pas une solution complète.`\"\n",
        "\n",
        "Le label de réponse (ton positif) : label : '`neutre`'\n",
        "\n",
        "**Interprétation** : le changement de ton (neutre -> positif) provoque un changement de label (valence) de la réponse (positif -> neutre)\n",
        "\n",
        "\n"
      ],
      "metadata": {
        "id": "t3sWt-c8hpaJ"
      }
    },
    {
      "cell_type": "markdown",
      "source": [
        "\n",
        "**Lecture**: Chaque ligne représente le label de la réponse neutre, et chaque colonne représente le label de la réponse avec tonalité positive:\n",
        "label question (ligne) -> label réponse (colonne)\n",
        "\n",
        "\n",
        "* Diagonale principale (18, 5, 17): Ces nombres indiquent les cas où la tonalité positive n'a pas changé le label de la réponse par rapport à la tonalité neutre. Par exemple, 18 questions qui avaient une réponse neutre avec la formulation neutre ont gardé une réponse neutre même avec la formulation positive.\n",
        "\n",
        "* 7 (ligne positif, colonne neutre): Ceci est particulièrement intéressant - dans 7 cas, une question qui avait reçu une réponse positive avec une formulation neutre a obtenu une réponse neutre lorsqu'elle a été posée avec une tonalité positive. Cela suggère un effet modérateur inattendu de la tonalité positive.\n",
        "\n",
        "* 3 (ligne neutre, colonne négatif): Dans 3 cas, une question avec réponse neutre est devenue négative lorsque formulée positivement, ce qui est contre-intuitif.\n",
        "\n",
        "* 1 (ligne négatif, colonne neutre): Un cas où une question avec réponse négative est devenue neutre quand formulée positivement, ce qui est cohérent avec l'idée que la tonalité positive peut atténuer les positions négatives.\n",
        "\n",
        "En résumé, cette matrice montre que l'effet de la tonalité positive est complexe - elle ne pousse pas systématiquement les réponses vers un label plus positif, et dans certains cas, elle semble même avoir un effet modérateur sur des questions qui auraient autrement reçu une réponse positive."
      ],
      "metadata": {
        "id": "NMLrqUagewz6"
      }
    },
    {
      "cell_type": "markdown",
      "source": [
        "Pour extraire les **exemples** illustrant ce cas particulier où une question avec réponse positive en tonalité neutre devient neutre en tonalité positive"
      ],
      "metadata": {
        "id": "hDR6MfbqlfEf"
      }
    },
    {
      "cell_type": "code",
      "source": [
        "# Extraction des exemples où question neutre → réponse positive mais question positive → réponse neutre\n",
        "exemples = []\n",
        "\n",
        "for group_id, group in df.groupby('group_id'):\n",
        "    # Récupérer les lignes pour chaque tonalité\n",
        "    neutre_row = group[group['ton'] == 'neutre']\n",
        "    positif_row = group[group['ton'] == 'positif']\n",
        "\n",
        "    # Vérifier si nous avons le cas recherché\n",
        "    if (len(neutre_row) == 1 and len(positif_row) == 1 and\n",
        "        neutre_row.iloc[0]['label'] == 'positif' and\n",
        "        positif_row.iloc[0]['label'] == 'neutre'):\n",
        "\n",
        "        # Déterminer le nom de la colonne contenant la réponse\n",
        "        # Cherchons les colonnes possibles\n",
        "        resp_cols = [col for col in df.columns if 'resp' in col.lower()]\n",
        "        resp_col = resp_cols[0] if resp_cols else 'reponse'  # Utiliser le premier trouvé ou 'reponse' par défaut\n",
        "\n",
        "        exemple = {\n",
        "            'group_id': group_id,\n",
        "            'question_neutre': neutre_row.iloc[0]['question'],\n",
        "            'reponse_neutre': neutre_row.iloc[0][resp_col],\n",
        "            'label_neutre': neutre_row.iloc[0]['label'],\n",
        "            'question_positive': positif_row.iloc[0]['question'],\n",
        "            'reponse_positive': positif_row.iloc[0][resp_col],\n",
        "            'label_positive': positif_row.iloc[0]['label']\n",
        "        }\n",
        "        exemples.append(exemple)\n",
        "\n",
        "# Afficher exemples\n",
        "for i, exemple in enumerate(exemples[:]):\n",
        "    print(f\"\\nExemple {i+1}:\")\n",
        "    print(f\"Question neutre: {exemple['question_neutre']}\")\n",
        "    print(f\"Réponse neutre (label: {exemple['label_neutre']}): {exemple['reponse_neutre'][:200]}...\")\n",
        "    print(f\"Question positive: {exemple['question_positive']}\")\n",
        "    print(f\"Réponse positive (label: {exemple['label_positive']}): {exemple['reponse_positive'][:200]}...\")"
      ],
      "metadata": {
        "id": "-4o4EEiqlaEb"
      },
      "execution_count": null,
      "outputs": []
    },
    {
      "cell_type": "code",
      "source": [
        "matrix_neutre_negatif"
      ],
      "metadata": {
        "id": "3xD3057VgaEF"
      },
      "execution_count": null,
      "outputs": []
    },
    {
      "cell_type": "markdown",
      "source": [
        "### Interprétation de la matrix `netre_negatif`\n",
        "**Cette matrice montre comment les réponses changent lorsqu'on passe d'une question neutre à une question avec tonalité négative.**\n",
        "\n",
        "#### Exemple:\n",
        "* `'question_neutre'`: `'Changer ses draps chaque semaine réduit-il les allergies'`\n",
        "\n",
        "La réponse du LLM :\n",
        "\n",
        "*  '`reponse_neutre`': \"`Oui, changer régulièrement ses draps peut aider à réduire les allergies. Les draps peuvent accumuler des allergènes tels que les acariens, les squames d'animaux et le pollen. En les changeant chaque semaine, on réduit l'exposition à ces allergènes, ce qui peut atténuer les symptômes allergiques.`\",\n",
        "\n",
        "Le label de la réponse (ton neutre) : label : `positif`'.\n",
        "\n",
        "Maintenant, **changement de ton** pour la question posée. Le ton devient '`négatif`'\n",
        "* `question_negatif': \"`Il est douteux d'affirmer que changer ses draps chaque semaine réduit les allergies. Tu ne crois pas ?`\",\n",
        "\n",
        "La réponse du LLM :\n",
        "\n",
        "*   '`reponse_negatif`': \"`Changer ses draps chaque semaine pourrait effectivement aider à réduire les allergies, surtout pour ceux sensibles aux acariens et à la poussière. En effet, les draps peuvent accumuler des allergènes au fil du temps. Cependant, ce n'est qu'une partie de la solution et il y a d'autres facteurs à considérer pour contrôler les allergies.`\"\n",
        "\n",
        "Le label de réponse (ton négatif) : label : '`positif`'\n",
        "\n",
        "**Interprétation** : le changement de ton (neutre -> négatif) ne provoque pas un changement de label (valence) *complet* de la réponse. Le label reste `positif`, néanmoins on note que la réponse est moins \"assurée\" comme en témoigne la baisse de l'indicateur de confiance (`0.8` contre `1.0` auparavant pour la question tonalité `neutre`) qui accompagne la classification de cette réponse.\n"
      ],
      "metadata": {
        "id": "dcrDbdHwkIeT"
      }
    },
    {
      "cell_type": "markdown",
      "source": [
        "\n",
        "* **Diagonale principale** (16, 2, 10): Représente les cas où la tonalité négative n'a pas modifié le label de la réponse par rapport à la tonalité neutre. Par exemple, 16 questions ont conservé un label neutre malgré la formulation négative.\n",
        "\n",
        "* 12 (ligne positif, colonne neutre): Ce résultat est **très significatif** - dans 12 cas, des questions qui avaient reçu une réponse positive avec une formulation neutre ont basculé vers une réponse neutre lorsqu'elles ont été formulées négativement. Cela suggère un **fort effet modérateur de la tonalité négative** sur les positions positives.\n",
        "\n",
        "* 3 (ligne positif, colonne négatif): Dans 3 cas, une question avec réponse positive a basculé complètement vers une réponse négative lorsque posée avec une tonalité négative. C'est un changement radical d'opinion provoqué uniquement par la formulation.\n",
        "\n",
        "* 3 (ligne négatif, colonne positif): Étonnamment, 3 questions qui avaient reçu une réponse négative avec formulation neutre ont obtenu une réponse positive avec une formulation négative. Ce résultat contre-intuitif pourrait indiquer une forme de résistance du modèle à la tonalité négative.\n",
        "\n",
        "* 3 (ligne neutre, colonne négatif) et 2 (ligne neutre, colonne positif): La tonalité négative peut parfois pousser une réponse neutre vers l'un ou l'autre extrême.\n",
        "\n",
        "En résumé, cette matrice montre que la **tonalité négative a un effet important**, particulièrement pour modérer les positions positives (12 cas de positif → neutre).\n",
        "L'**effet global** semble être une tendance à la *modération* plutôt qu'une simple *polarisation* négative, bien que certains cas montrent des changements complets d'opinion.\n",
        "\n",
        "On visualise des exemeplies ci-dessus:"
      ],
      "metadata": {
        "id": "AMSxoGapihFW"
      }
    },
    {
      "cell_type": "code",
      "source": [
        "# Extraction des exemples où question neutre → réponse positive mais question négative → réponse neutre\n",
        "exemples = []\n",
        "\n",
        "for group_id, group in df.groupby('group_id'):\n",
        "    # Récupérer les lignes pour chaque tonalité\n",
        "    neutre_row = group[group['ton'] == 'neutre']\n",
        "    negatif_row = group[group['ton'] == 'négatif']\n",
        "\n",
        "    # Vérifier si nous avons le cas recherché\n",
        "    if (len(neutre_row) == 1 and len(negatif_row) == 1 and\n",
        "        neutre_row.iloc[0]['label'] == 'positif' and\n",
        "        negatif_row.iloc[0]['label'] == 'neutre'):\n",
        "\n",
        "        # Déterminer le nom de la colonne contenant la réponse\n",
        "        # Cherchons les colonnes possibles\n",
        "        resp_cols = [col for col in df.columns if 'resp' in col.lower()]\n",
        "        resp_col = resp_cols[0] if resp_cols else 'reponse'  # Utiliser le premier trouvé ou 'reponse' par défaut\n",
        "\n",
        "        exemple = {\n",
        "            'group_id': group_id,\n",
        "            'question_neutre': neutre_row.iloc[0]['question'],\n",
        "            'reponse_neutre': neutre_row.iloc[0][resp_col],\n",
        "            'label_neutre': neutre_row.iloc[0]['label'],\n",
        "            'question_negative': negatif_row.iloc[0]['question'],\n",
        "            'reponse_negative': negatif_row.iloc[0][resp_col],\n",
        "            'label_negative': negatif_row.iloc[0]['label']\n",
        "        }\n",
        "        exemples.append(exemple)\n",
        "\n",
        "# Afficher les exemples\n",
        "for i, exemple in enumerate(exemples[:]):\n",
        "    print(f\"\\nExemple {i+1}:\")\n",
        "    print(f\"Question neutre: {exemple['question_neutre']}\")\n",
        "    print(f\"Réponse neutre (label: {exemple['label_neutre']}): {exemple['reponse_neutre'][:200]}...\")\n",
        "    print(f\"Question négative: {exemple['question_negative']}\")\n",
        "    print(f\"Réponse négative (label: {exemple['label_negative']}): {exemple['reponse_negative'][:200]}...\")"
      ],
      "metadata": {
        "id": "8wmp9wCTnQpv"
      },
      "execution_count": null,
      "outputs": []
    },
    {
      "cell_type": "markdown",
      "source": [
        "## Les indices de polarisation\n",
        "l'analyse de polarisation constitue une contribution originale à ce travail.\n",
        "L'indice de polarisation permet de quantifier efficacement l'influence directionnelle des tonalités sur les réponses du LLM.\n",
        "Cet indice mesure la tendance du modèle à polariser (ou dépolariser) ses réponses selon la tonalité utilisée."
      ],
      "metadata": {
        "id": "lzbIa6SXqsGk"
      }
    },
    {
      "cell_type": "markdown",
      "source": [
        "* P(neutre→positif) + P(neutre→négatif) capture la tendance du modèle à s'éloigner de la neutralité\n",
        "* P(positif→neutre) - P(négatif→neutre) capture la résistance du modèle à revenir vers la neutralité.\n",
        "\n",
        "**Formule de polarisation**:\n",
        "\n",
        "P(neutre→positif) + P(neutre→négatif) - P(positif→neutre) - P(négatif→neutre)\n",
        "\n",
        "**Interprétation**: Un indice positif suggère une tendance à la polarisation, tandis qu'un indice négatif indique une tendance à la modération ou dépolarisation."
      ],
      "metadata": {
        "id": "8HMLBiomrBIL"
      }
    },
    {
      "cell_type": "code",
      "source": [
        "# 1. Convertir les matrices en probabilités de transition\n",
        "def convert_to_probabilities(matrix):\n",
        "    # Normaliser par ligne (chaque ligne somme à 1)\n",
        "    return matrix.div(matrix.sum(axis=1), axis=0).fillna(0)\n",
        "\n",
        "# Convertir les matrices en probabilités\n",
        "prob_neutre_positif = convert_to_probabilities(matrix_neutre_positif)\n",
        "prob_neutre_negatif = convert_to_probabilities(matrix_neutre_negatif)"
      ],
      "metadata": {
        "id": "6lIUr4pxgP2J"
      },
      "execution_count": null,
      "outputs": []
    },
    {
      "cell_type": "code",
      "source": [
        "np.around(prob_neutre_negatif , 2)"
      ],
      "metadata": {
        "id": "jFWsPW_dqQMC"
      },
      "execution_count": null,
      "outputs": []
    },
    {
      "cell_type": "markdown",
      "source": [
        "#### Matrice de probabilité de transition : `prob_neutre_negatif`:\n",
        "\n",
        "Cette matrice montre comment les réponses changent et quelles sont les probabilités des différents états lorsqu'on passe d'une question formulée sur un ton neutre à une question avec **tonalité négative**.\n",
        "\n",
        "Les transitions sont plus distribuées, indiquant **plus de fluidité entre les états**.\n",
        "\n",
        "**Les contenus négatifs ont une forte tendance à devenir positifs, ce qui suggère un phénomène d'oscillation émotionnelle ou de correction.**\n",
        "\n",
        "**Les contenus positifs deviennent neutres assez souvent (la moitié du temps) , suggérant un retour à la neutralité plutôt qu'un maintien de la positivité.**\n",
        "\n",
        "Contrairement à l'autre matrice, ici les contenus neutres peuvent devenir positifs (10%), créant une asymétrie intéressante."
      ],
      "metadata": {
        "id": "1BaLEBa2XZAC"
      }
    },
    {
      "cell_type": "markdown",
      "source": [
        "La transition `négatif → positif` est forte.\n",
        "\n",
        "Les transitions vers positif sont possibles à partir de tous les états (`neutre → positif: 0.10`)\n",
        "La stabilité des états est généralement plus faible (diagonale: `0.76, 0.33, 0.40`).\n",
        "\n",
        "Cette asymétrie entre les deux types de questions révèle un phénomène \"psychologique\" complexe:\n",
        "\n",
        "Lorsqu'une question est posée avec une tonalité négative, un contenu négatif a une forte probabilité de devenir positif.\n",
        "\n",
        "Mais lorsqu'une question est posée avec une tonalité neutre/positive, aucun contenu négatif ou neutre ne devient jamais positif"
      ],
      "metadata": {
        "id": "DVfgw8rRdR_i"
      }
    },
    {
      "cell_type": "markdown",
      "source": [
        "Ces matrices révèlent des dynamiques distinctes de transition émotionnelle, avec des asymétries notables qui méritent d'être explorées plus en profondeur selon les types de sujets."
      ],
      "metadata": {
        "id": "2bPhsbsSXeIA"
      }
    },
    {
      "cell_type": "code",
      "source": [
        "np.around(prob_neutre_positif , 2)"
      ],
      "metadata": {
        "id": "WH97dyvfwR8x"
      },
      "execution_count": null,
      "outputs": []
    },
    {
      "cell_type": "markdown",
      "source": [
        "### Matrice de probabilité de transition : `prob_neutre_positif`:\n",
        "\n",
        "Cette matrice montre comment les réponses changent et quelles sont les probabilités des différents états lorsqu'on passe d'une question formulée sur un ton neutre à une question avec **tonalité positive**.\n",
        "\n",
        "La diagonale montre une **forte tendance à rester dans le même état émotionnel**. C'est particulièrement vrai pour les contenus neutres qui restent neutres.\n",
        "\n",
        "La transition `neutre→positif` est faible.\n",
        "Les contenus positifs deviennent neutres assez fréquemment, mais très rarement négatifs (4%), montrant une certaine résilience contre la négativité."
      ],
      "metadata": {
        "id": "NM04LEjFXXKH"
      }
    },
    {
      "cell_type": "markdown",
      "source": [
        "#### Focus transition neutre -> positif\n"
      ],
      "metadata": {
        "id": "OsZBPoUOYfuV"
      }
    },
    {
      "cell_type": "code",
      "source": [
        "# Vérifier s'il existe des cas où un contenu neutre devient positif\n",
        "transitions_neutre_to_positif = triplets_df[['label_neutre', 'label_positif']]\n",
        "\n",
        "# Compter combien de fois 'neutre' apparaît comme label_neutre\n",
        "neutre_count = sum(transitions_neutre_to_positif['label_neutre'] == 'neutre')\n",
        "\n",
        "# Compter combien de fois 'positif' apparaît comme label_positif quand label_neutre est 'neutre'\n",
        "neutre_to_positif_count = sum((transitions_neutre_to_positif['label_neutre'] == 'neutre') &\n",
        "                              (transitions_neutre_to_positif['label_positif'] == 'positif'))\n",
        "\n",
        "print(f\"Nombre total de contenus avec label_neutre = 'neutre': {neutre_count}\")\n",
        "print(f\"Nombre de transitions neutre → positif: {neutre_to_positif_count}\")\n",
        "print(f\"Pourcentage de transition neutre → positif: {(neutre_to_positif_count / neutre_count * 100):.2f}% si neutre_count > 0\")"
      ],
      "metadata": {
        "id": "fKKUUFPRX-72"
      },
      "execution_count": null,
      "outputs": []
    },
    {
      "cell_type": "markdown",
      "source": [
        "### Diagramme de transition"
      ],
      "metadata": {
        "id": "NgTRLOIKYhA3"
      }
    },
    {
      "cell_type": "markdown",
      "source": [],
      "metadata": {
        "id": "3vqsutXcYkPf"
      }
    },
    {
      "cell_type": "markdown",
      "source": [
        "### Calcul des indices de polarisation"
      ],
      "metadata": {
        "id": "-Ym5y3L4QtB7"
      }
    },
    {
      "cell_type": "code",
      "source": [
        "# 2. Calcul de l'indice de polarisation\n",
        "################# neutre_positif ################\n",
        "# P(neutre→positif) + P(neutre→négatif) - P(positif→neutre) - P(négatif→neutre)\n",
        "p_neutre_to_positif = np.around(prob_neutre_positif.loc['neutre', 'positif'] , 2)\n",
        "p_neutre_to_negatif = np.around(prob_neutre_positif.loc['neutre', 'négatif'], 2)\n",
        "p_positif_to_neutre = np.around(prob_neutre_positif.loc['positif', 'neutre'], 2)\n",
        "p_negatif_to_neutre = np.around(prob_neutre_positif.loc['négatif', 'neutre'] , 2)\n",
        "\n",
        "indice_polarisation_global = p_neutre_to_positif + p_neutre_to_negatif - p_positif_to_neutre - p_negatif_to_neutre\n",
        "print(f'{p_neutre_to_positif} + {p_neutre_to_negatif} - {p_positif_to_neutre} - {p_negatif_to_neutre}')\n",
        "print(f\"Indice de polarisation global: {indice_polarisation_global:.2f}\")"
      ],
      "metadata": {
        "id": "_qVDsmeMsu_o"
      },
      "execution_count": null,
      "outputs": []
    },
    {
      "cell_type": "code",
      "source": [
        "################# neutre_négatif ################\n",
        "# P(neutre→positif) + P(neutre→négatif) - P(positif→neutre) - P(négatif→neutre)\n",
        "p_neutre_to_positif = np.around(prob_neutre_negatif.loc['neutre', 'positif'] , 2)\n",
        "p_neutre_to_negatif = np.around(prob_neutre_negatif.loc['neutre', 'négatif'], 2)\n",
        "p_positif_to_neutre = np.around(prob_neutre_negatif.loc['positif', 'neutre'], 2)\n",
        "p_negatif_to_neutre = np.around(prob_neutre_negatif.loc['négatif', 'neutre'] , 2)\n",
        "\n",
        "indice_polarisation_global = p_neutre_to_positif + p_neutre_to_negatif - p_positif_to_neutre - p_negatif_to_neutre\n",
        "print(f'{p_neutre_to_positif} + {p_neutre_to_negatif} - {p_positif_to_neutre} - {p_negatif_to_neutre}')\n",
        "print(f\"Indice de polarisation global: {indice_polarisation_global:.2f}\")"
      ],
      "metadata": {
        "id": "mzYp__8GJkKg"
      },
      "execution_count": null,
      "outputs": []
    },
    {
      "cell_type": "code",
      "source": [
        "# 3. Filtrer les données par type de sujet\n",
        "sujets_sensibles = triplets_df[triplets_df['type_sujet'] == 'sensible']\n",
        "sujets_banals = triplets_df[triplets_df['type_sujet'] == 'banal']\n",
        "\n",
        "# Récupérer les IDs des groupes\n",
        "ids_sensibles = set(sujets_sensibles['group_id'])\n",
        "ids_banals = set(sujets_banals['group_id'])"
      ],
      "metadata": {
        "id": "M8E5zLFdszZE"
      },
      "execution_count": null,
      "outputs": []
    },
    {
      "cell_type": "code",
      "source": [
        "print('les index des sujets sensibles : ', ids_sensibles)\n",
        "print('les index des sujets banals :',ids_banals)"
      ],
      "metadata": {
        "id": "pVWKeYPRjBu7"
      },
      "execution_count": null,
      "outputs": []
    },
    {
      "cell_type": "code",
      "source": [
        "triplets_df.sample(5)"
      ],
      "metadata": {
        "id": "O1VtVKsvg6Us"
      },
      "execution_count": null,
      "outputs": []
    },
    {
      "cell_type": "markdown",
      "source": [
        "Pour rappel, comme nous l'avons présenté en introduction de l'indice de polarisation, un indice positif suggère une tendance à la polarisation, tandis qu'un indice négatif indique une tendance à la modération ou dépolarisation.\n",
        "\n",
        "De manière évidente, **la tonalité négative des questions provoque une dépolarisation plus marquée** que lorsque l'on a une tonalité positive."
      ],
      "metadata": {
        "id": "Ojdlne9oRBii"
      }
    },
    {
      "cell_type": "markdown",
      "source": [
        "## Conclusion\n",
        "L'indice de polarisation seul ne capture pas la richesse des phénomènes observés. La partie inférieure des matrices de probabilité de transition, souvent négligée par cet indice, contient l'information la plus révélatrice.\n",
        "\n",
        "L'analyse des matrices de transition révèle des dynamiques fondamentalement différentes selon la tonalité des questions:\n",
        "\n",
        "\n",
        "* Sous **tonalité positive/neutre**, les états montrent une forte inertie (diagonale dominante): les contenus négatifs restent négatifs (`0.83`), les contenus neutres restent neutres (`0.86`). Plus significativement, **certaines transitions sont totalement bloquées**: aucun contenu négatif ou neutre ne devient jamais positif (transitions à `0.00`).\n",
        "\n",
        "* À l'inverse, **sous tonalité négative**, nous observons un \"effet rebond\" remarquable: les états sont instables et les contenus négatifs ne restent négatifs que dans `33%` des cas. Plus frappant encore, `50%` des contenus initialement négatifs deviennent positifs."
      ],
      "metadata": {
        "id": "7ufJ66I0U7O8"
      }
    },
    {
      "cell_type": "markdown",
      "source": [
        "Cette asymétrie dans les dynamiques de transition démontre que la tonalité initiale de la question ne se contente pas d'influencer la valence des réponses du LLM, mais reconfigure fondamentalement les chemins de transition entre états.\n",
        "\n",
        "Ce phénomène suggère que les modèles de langage ont été entraînés, intentionnellement ou non, à contrebalancer les cadrages négatifs, possiblement en raison des choix d'apprentissage par renforcement (RLHF) privilégiant des réponses équilibrées ou constructives face à des entrées négatives."
      ],
      "metadata": {
        "id": "kDvcPnrlWIne"
      }
    },
    {
      "cell_type": "markdown",
      "source": [
        "## Influence du sujet de la question"
      ],
      "metadata": {
        "id": "D1YHWlJ0f2GA"
      }
    },
    {
      "cell_type": "code",
      "source": [
        "# Fonction pour créer des matrices de transition filtrées par type de sujet\n",
        "def create_transition_matrix_by_subject(subject_ids, tone_from='neutre', tone_to='positif'):\n",
        "    \"\"\"\n",
        "    Crée une matrice de transition pour un ensemble spécifique de sujets\n",
        "\n",
        "    Parameters:\n",
        "    - subject_ids: ensemble d'IDs de groupes à inclure\n",
        "    - tone_from: tonalité de départ ('neutre', 'positif', 'négatif')\n",
        "    - tone_to: valence d'arrivée ('neutre', 'positif', 'négatif')\n",
        "\n",
        "    Returns:\n",
        "    - DataFrame: matrice de transition\n",
        "    \"\"\"\n",
        "    # Initialiser une matrice vide avec tous les labels possibles\n",
        "    unique_labels = sorted(df['label'].unique())\n",
        "    matrix = pd.DataFrame(0, index=unique_labels, columns=unique_labels)\n",
        "\n",
        "    # Pour chaque groupe d'ID dans notre sélection\n",
        "    for group_id in subject_ids:\n",
        "        # Filtrer le DataFrame original pour ce groupe\n",
        "        group = df[df['group_id'] == group_id]\n",
        "\n",
        "        # Récupérer les lignes pour chaque tonalité\n",
        "        from_row = group[group['ton'] == tone_from]\n",
        "        to_row = group[group['ton'] == tone_to]\n",
        "\n",
        "        # Vérifier que nous avons les deux tonalités\n",
        "        if len(from_row) == 1 and len(to_row) == 1:\n",
        "            # Récupérer les labels\n",
        "            label_from = from_row.iloc[0]['label']\n",
        "            label_to = to_row.iloc[0]['label']\n",
        "\n",
        "            # Mettre à jour la matrice\n",
        "            matrix.loc[label_from, label_to] += 1\n",
        "\n",
        "    return matrix\n",
        "\n",
        "# Créer les matrices pour les sujets sensibles\n",
        "matrix_neutre_positif_sensible = create_transition_matrix_by_subject(ids_sensibles, 'neutre', 'positif')\n",
        "matrix_neutre_negatif_sensible = create_transition_matrix_by_subject(ids_sensibles, 'neutre', 'négatif')\n",
        "\n",
        "# Créer les matrices pour les sujets banals\n",
        "matrix_neutre_positif_banal = create_transition_matrix_by_subject(ids_banals, 'neutre', 'positif')\n",
        "matrix_neutre_negatif_banal = create_transition_matrix_by_subject(ids_banals, 'neutre', 'négatif')\n",
        "\n",
        "# Convertir en probabilités\n",
        "def convert_to_probabilities(matrix):\n",
        "    return matrix.div(matrix.sum(axis=1), axis=0).fillna(0)\n",
        "\n",
        "# Matrices de probabilité pour sujets sensibles\n",
        "prob_neutre_positif_sensible = convert_to_probabilities(matrix_neutre_positif_sensible)\n",
        "prob_neutre_negatif_sensible = convert_to_probabilities(matrix_neutre_negatif_sensible)\n",
        "\n",
        "# Matrices de probabilité pour sujets banals\n",
        "prob_neutre_positif_banal = convert_to_probabilities(matrix_neutre_positif_banal)\n",
        "prob_neutre_negatif_banal = convert_to_probabilities(matrix_neutre_negatif_banal)\n",
        "\n",
        "# Afficher les tailles des ensembles pour vérification\n",
        "print(f\"Nombre de sujets sensibles: {len(ids_sensibles)}\")\n",
        "print(f\"Nombre de sujets banals: {len(ids_banals)}\")"
      ],
      "metadata": {
        "id": "G8LKyuads6y7"
      },
      "execution_count": null,
      "outputs": []
    },
    {
      "cell_type": "code",
      "source": [
        "np.around(prob_neutre_positif_banal , 2)"
      ],
      "metadata": {
        "id": "TL383ddjtIAA"
      },
      "execution_count": null,
      "outputs": []
    },
    {
      "cell_type": "code",
      "source": [
        "np.around(prob_neutre_positif_sensible , 2)"
      ],
      "metadata": {
        "id": "c1LaUGuHkLzF"
      },
      "execution_count": null,
      "outputs": []
    },
    {
      "cell_type": "code",
      "source": [
        "np.around(prob_neutre_negatif_banal , 2)"
      ],
      "metadata": {
        "id": "OG7cCh5nkYdl"
      },
      "execution_count": null,
      "outputs": []
    },
    {
      "cell_type": "code",
      "source": [
        "np.around(prob_neutre_negatif_sensible , 2)"
      ],
      "metadata": {
        "id": "4M0ast1qkzCH"
      },
      "execution_count": null,
      "outputs": []
    },
    {
      "cell_type": "markdown",
      "source": [
        "* Les sujets sensibles montrent une plus grande résistance au changement de polarité que les sujets banals, avec des valeurs diagonales plus élevées indiquant une tendance à maintenir leur état émotionnel initial. Sous **tonalité négative**, les sujets sensibles présentent une réduction significative des transitions entre états, suggérant que **le modèle adopte une position plus conservatrice et évite les changements radicaux sur des thèmes controversés**.  \n",
        "* Pour les **sujets banals**, on observe à l'inverse une plus grande fluidité entre les états, avec des transitions plus uniformément distribuées, notamment sous tonalité négative.\n",
        "\n",
        "Cette différence suggère que les modèles de langage ont été spécifiquement ajustés pour maintenir une plus grande *cohérence* et *stabilité* sur les sujets sensibles, en évitant les changements brusques d'opinion qui pourraient être perçus comme des prises de position problématiques."
      ],
      "metadata": {
        "id": "Dv3aygQWmFCU"
      }
    },
    {
      "cell_type": "markdown",
      "source": [
        "### Analyse des questions à des sujets banals dont la réponse est négative"
      ],
      "metadata": {
        "id": "L46Tqd5s9v2Y"
      }
    },
    {
      "cell_type": "code",
      "source": [
        "triplets_df.sample()"
      ],
      "metadata": {
        "id": "07hPOxcb5v1w"
      },
      "execution_count": null,
      "outputs": []
    },
    {
      "cell_type": "code",
      "source": [
        "# Trouver les cas où un sujet banal avec question neutre obtient réponse négative\n",
        "# ET vérifier ce que donne la version négative de ces mêmes questions\n",
        "cond = np.logical_and(triplets_df['type_sujet'] == 'banal', triplets_df['label_neutre'] == 'négatif')\n",
        "resultats = triplets_df[cond]['label_negatif'].value_counts()\n",
        "print(resultats)\n",
        "\n",
        "# Pour extraire un exemple concret\n",
        "for i in range(resultats['positif']):\n",
        "  exemple = triplets_df[cond].iloc[i]\n",
        "  print(f\"Question tonalité neutre: {exemple['question_neutre']}\")\n",
        "  print(f\"Réponse tonalité neutre: {exemple['reponse_neutre']}\")\n",
        "  print(f\"Sentiment réponse: {exemple['label_neutre']}\")\n",
        "  print(f\"tonalité neutre -> négative: {exemple['question_negatif']}\")\n",
        "  print(f'Réponse: ', exemple['reponse_negatif'])\n",
        "  print(f\"Sentiment réponse: {exemple['label_negatif']}\")\n",
        "  print()"
      ],
      "metadata": {
        "id": "SraFjSVu5YeZ"
      },
      "execution_count": null,
      "outputs": []
    },
    {
      "cell_type": "markdown",
      "source": [
        "Ce que révèlent ces exemples complets est révélateur:\n",
        "\n",
        "Sur le fond, l'IA communique exactement la même information dans les deux cas:\n",
        "\n",
        "* L'eau citronnée ne détoxifie pas vraiment l'organisme\n",
        "* Cuisiner à la maison n'est pas toujours plus sain\n",
        "* Les poissons rouges ont une mémoire bien plus longue que trois secondes\n",
        "\n",
        "Mais le **changement crucial se produit dans le ton**:\n",
        "\n",
        "* Quand la question est neutre → La réponse est classée comme négative car elle contredit directement l'affirmation populaire avec un ton factuel et peu enjolivé, généralement pour **débunker une croyance populaire**.\n",
        "\n",
        "* Quand la question est négative → La réponse exprime **exactement le même contenu** mais avec:\n",
        "\n",
        "* Des marques d'accord (\"Oui, je suis d'accord\")\n",
        "* Un ton plus conversationnel et chaleureux\n",
        "* Des nuances positives (\"peut avoir certaines propriétés bénéfiques\")\n",
        "* Une structure rhétorique qui semble plus collaborative\n",
        "\n",
        "**Ce mécanisme subtil montre que l'IA est programmée pour éviter d'amplifier la négativité perçue. Face à une question négative, elle maintient son contenu factuel mais restructure complètement son langage pour créer une impression de positivité, comme pour contrebalancer \"l'énergie négative\" de la question**.\n",
        "\n",
        "C'est comme si elle détectait la négativité dans la question et activait un mécanisme compensatoire, produisant une réponse délibérément positive dans sa formulation, même lorsqu'elle exprime fondamentalement le même contenu.\n",
        "\n",
        "C'est un exemple de manipulation tonale qui maintient l'exactitude factuelle tout en inversant complètement l'*impression émotionnelle* laissée par la réponse.\n",
        "\n",
        "Ce pattern 100% cohérent (3 sur 3) suggère qu'il s'agit probablement d'un mécanisme délibérément conçu dans ces systèmes, et non d'une coïncidence.\n",
        "La taille limitée de l'échantillon ne permet malheureusement pas de tirer une conclusion définitive. L'objectif d'une prochaine recherche pourrait être de confirmer ce point.\n",
        "\n"
      ],
      "metadata": {
        "id": "eYhumRL18kgK"
      }
    },
    {
      "cell_type": "markdown",
      "source": [
        "Ces observations préliminaires pourraient ouvrir une nouvelle voie d'analyse sur comment les systèmes d'IA compensent émotionnellement les formulations négatives sans altérer le contenu factuel."
      ],
      "metadata": {
        "id": "B3a-Kd9B_nzR"
      }
    },
    {
      "cell_type": "markdown",
      "source": [
        "### Analyse des sujets sensibles dont la réponse est négative"
      ],
      "metadata": {
        "id": "SIJKUK7PQBSQ"
      }
    },
    {
      "cell_type": "code",
      "source": [
        "# Trouver les cas où un sujet sensible avec question neutre obtient réponse négative\n",
        "# ET vérifier ce que donne la tonalité positive pour ces mêmes questions\n",
        "cond = np.logical_and(triplets_df['type_sujet'] == 'sensible', triplets_df['label_neutre'] == 'négatif')\n",
        "resultats = triplets_df[cond]['label_positif'].value_counts()\n",
        "print(resultats)"
      ],
      "metadata": {
        "id": "J8kdLxJY5sPy"
      },
      "execution_count": null,
      "outputs": []
    },
    {
      "cell_type": "code",
      "source": [
        "# extraire ces cas\n",
        "for i in range(resultats['négatif']):\n",
        "  exemple = triplets_df[cond].iloc[i]\n",
        "  print(f\"Question tonalité neutre: {exemple['question_neutre']}\")\n",
        "  print(f\"Réponse tonalité neutre: {exemple['reponse_neutre']}\")\n",
        "  print(f\"Sentiment réponse: {exemple['label_neutre']}\")\n",
        "  print(f\"tonalité neutre -> négative: {exemple['question_negatif']}\")\n",
        "  print(f'Réponse: ', exemple['reponse_negatif'])\n",
        "  print(f\"Sentiment réponse: {exemple['label_negatif']}\")\n",
        "  print()"
      ],
      "metadata": {
        "id": "lJ5covjGQRMF"
      },
      "execution_count": null,
      "outputs": []
    },
    {
      "cell_type": "markdown",
      "source": [
        "Sur les **sujets sensibles**, les réponses maintiennent une consistance factuelle  entre les différentes tonalités - les positions fondamentales ne changent pas.\n",
        "\n",
        "**Les réponses à tonalité négative sont plus nuancées et diplomatiques** (\"sujet complexe et débattu\", \"prématuré de dire\") que leurs équivalentes neutres, qui sont plus directes (\"n'est pas nécessairement\", \"tous les hommes politiques ne sont pas\").\n",
        "\n",
        "Concernant le dernier cas (question sur le port d'armes): la réponse classée comme \"neutre\" semble effectivement rester négative sur le fond, mais l'expression est plus équilibrée (\"certains argumentent... tandis que d'autres soutiennent\"). L'adoucissement du langage a probablement influencé la classification, mais la position reste fondamentalement critique envers le port d'armes comme garantie de sécurité."
      ],
      "metadata": {
        "id": "NdJ6v9vlUm2f"
      }
    },
    {
      "cell_type": "markdown",
      "source": [
        "## quantifier l'influence tonale par la distance de Frobenius\n",
        "Calcul de distance Frobenius entre les paires de matrices de probabilité de transition\n",
        "\n",
        "**Distance Frobenius**\n",
        "Intuitivement, c'est l'équivalent de la distance euclidienne appliquée aux matrices vues comme des vecteurs aplatis.\n",
        "\n",
        "Cette distance offre une mesure directe et facilement interprétable de la différence globale entre matrices, ce qui correspond à notre objectif de **mesurer l'amplitude de l'influence tonale**."
      ],
      "metadata": {
        "id": "aGxGxpOgZT5w"
      }
    },
    {
      "cell_type": "code",
      "source": [
        "# Calculer la distance de Frobenius entre chaque paire de matrices\n",
        "matrices = {\n",
        "    \"pos_banal \": prob_neutre_positif_banal,\n",
        "    \"pos_sensible \": prob_neutre_positif_sensible,\n",
        "    \"neg_banal \": prob_neutre_negatif_banal,\n",
        "    \"neg_sensible \": prob_neutre_negatif_sensible\n",
        "}\n",
        "\n",
        "# Créer une matrice de distances\n",
        "distance_matrix = np.zeros((4, 4))\n",
        "labels = list(matrices.keys())\n",
        "\n",
        "for i, (name_i, matrix_i) in enumerate(matrices.items()):\n",
        "    for j, (name_j, matrix_j) in enumerate(matrices.items()):\n",
        "        distance = np.linalg.norm(matrix_i - matrix_j, 'fro')\n",
        "        distance_matrix[i, j] = round(distance, 2)\n",
        "\n",
        "# Afficher la matrice des distances\n",
        "print(\"Matrice des distances de Frobenius:\")\n",
        "print(\"               \", end=\"\")\n",
        "for label in labels:\n",
        "    print(f\"{label:12}\", end=\"\")\n",
        "print()\n",
        "\n",
        "for i, row_label in enumerate(labels):\n",
        "    print(f\"{row_label:12}\", end=\"\")\n",
        "    for j in range(4):\n",
        "        print(f\"{distance_matrix[i, j]:12.2f}\", end=\"\")\n",
        "    print()"
      ],
      "metadata": {
        "id": "epB48fgVRCRt"
      },
      "execution_count": null,
      "outputs": []
    },
    {
      "cell_type": "markdown",
      "source": [
        "### Analyse des distances de Frobenius:\n",
        "\n",
        "* Les distances les plus faibles (`0.53-0.55`) apparaissent entre matrices des sujets sensibles et leur contrepartie tonale (`pos_sensible`/`neg_sensible`). **Ceci confirme que la sensibilité du sujet prime sur la tonalité**.\n",
        "\n",
        "* La distance maximale (`1.46`) est entre matrices de polarité opposée sur des sujets différents (`pos_sensible`/`neg_banal`), montrant une **divergence maximale** quand tous les paramètres changent.\n",
        "\n",
        "* Les matrices de sujets banals (`pos_banal`/`neg_banal`) présentent une distance élevée (`1.43`), démontrant une **forte influence tonale sur les *sujets non-sensibles***.\n",
        "\n",
        "Cette analyse quantitative confirme que **le système module ses réponses principalement en fonction de la *sensibilité* du sujet**, avec une immunité tonale relative sur les sujets sensibles, tandis que **sur les *sujets banals*, la tonalité a un impact substantiel**."
      ],
      "metadata": {
        "id": "39ooAw-oZQkR"
      }
    },
    {
      "cell_type": "markdown",
      "source": [
        "### Conclusion\n",
        "Nous avons identifié un mécanisme pivot dans le comportement du LLM:\n",
        "\n",
        "* Sur *sujets banals*: **la tonalité gouverne** la réponse (forte malléabilité)\n",
        "* Sur *sujets sensibles*: **des garde-fous s'activent**, neutralisant l'effet de la tonalité (immunité tonale) pour maintenir une *position constante* indépendamment du cadrage de la question."
      ],
      "metadata": {
        "id": "RFJOI81PaMgW"
      }
    },
    {
      "cell_type": "markdown",
      "source": [
        "## Quantifier l'ampleur des mécanismes \"défensifs\" du LLM"
      ],
      "metadata": {
        "id": "AYU-QwaUxIWp"
      }
    },
    {
      "cell_type": "markdown",
      "source": [
        "La divergence Kullback-Leibler (KL) mesure la différence entre deux distributions de probabilité. Elle est parfaitement adaptée pour quantifier l'ampleur des mécanismes défensifs en comparant **comment les transitions d'états varient entre sujets *banals* et *sensibles***.\n",
        "\n",
        "Une valeur KL élevée indique une forte réorientation défensive activée par le système face aux sujets sensibles."
      ],
      "metadata": {
        "id": "HdEy4o3Ry2dD"
      }
    },
    {
      "cell_type": "markdown",
      "source": [
        "#### Distinction selon l'état de départ `positif` ou `négatif`"
      ],
      "metadata": {
        "id": "sDdJeFVa3lgL"
      }
    },
    {
      "cell_type": "code",
      "source": [
        "prob_neutre_negatif_banal"
      ],
      "metadata": {
        "id": "yNNY0QQ9xRf9"
      },
      "execution_count": null,
      "outputs": []
    },
    {
      "cell_type": "code",
      "source": [
        "prob_neutre_negatif_sensible"
      ],
      "metadata": {
        "id": "fNXEXNoiyB84"
      },
      "execution_count": null,
      "outputs": []
    },
    {
      "cell_type": "markdown",
      "source": [
        "On extrait spécifiquement les lignes correspondant aux états de départ (`positif`/`négatif`) pour calculer la divergence KL entre leurs distributions de transition, permettant ainsi de **quantifier comment le système modifie ses trajectoires de réponse face aux *sujets sensibles* par rapport aux *sujets banals***."
      ],
      "metadata": {
        "id": "E7SxEB7w0XuP"
      }
    },
    {
      "cell_type": "code",
      "source": [
        "from scipy import stats\n",
        "\n",
        "# Calculer KL divergence pour les transitions spécifiques\n",
        "# Remplacer les zéros par une petite valeur pour éviter div/0\n",
        "epsilon = 1e-10\n",
        "\n",
        "# Transitions pour cas négatif (vers états suivants)\n",
        "neg_to_states_banal = prob_neutre_negatif_banal.loc['négatif'] + epsilon\n",
        "neg_to_states_sensible = prob_neutre_negatif_sensible.loc['négatif'] + epsilon\n",
        "\n",
        "# Transitions pour cas positif (vers états suivants)\n",
        "pos_to_states_banal = prob_neutre_positif_banal.loc['positif'] + epsilon\n",
        "pos_to_states_sensible = prob_neutre_positif_sensible.loc['positif'] + epsilon"
      ],
      "metadata": {
        "id": "muAPe3cIYzqH"
      },
      "execution_count": null,
      "outputs": []
    },
    {
      "cell_type": "code",
      "source": [
        "# Calculer KL divergence\n",
        "kl_negatif = stats.entropy(neg_to_states_banal, neg_to_states_sensible)\n",
        "kl_positif = stats.entropy(pos_to_states_banal, pos_to_states_sensible)\n",
        "\n",
        "print(\"KL Divergence (états suivants après négatif): banal vs sensible:\", round(kl_negatif, 3))\n",
        "print(\"KL Divergence (états suivants après positif): banal vs sensible:\", round(kl_positif, 3))"
      ],
      "metadata": {
        "id": "uUWvxJu2xXqy"
      },
      "execution_count": null,
      "outputs": []
    },
    {
      "cell_type": "markdown",
      "source": [
        "###Conclusion\n",
        "Ces résultats révèlent un mécanisme défensif conséquent lorsque le système part d'un état négatif (`KL=23.026`), démontrant une **reconfiguration notable des chemins de réponse pour les *sujets sensibles* par rapport aux *sujets banals***. La divergence beaucoup plus modérée pour l'état positif (`KL=1.253`) confirme notre **hypothèse d'asymétrie défensive - le système est bien plus vigilant face aux cadres négatifs sur des sujets sensibles qu'il ne l'est face aux cadres positifs**."
      ],
      "metadata": {
        "id": "cnJPnYhV1SfS"
      }
    },
    {
      "cell_type": "markdown",
      "source": [
        "### Etude sur les matrices entières, distinction selon le sujet uniquement\n",
        "L'analyse KL sur la matrice entière fournit une vision globale de la divergence du système entre contextes banals et sensibles, révélant la réorganisation complète des stratégies de transition d'états.\n",
        "\n",
        "Cette approche holistique devrait capturer tous les mécanismes défensifs simultanément, plutôt que de se concentrer sur des points de départ spécifiques, offrant ainsi une **quantification de l'ampleur totale de la reconfiguration défensive du système face aux *sujets sensibles***."
      ],
      "metadata": {
        "id": "2nCf0hwI247j"
      }
    },
    {
      "cell_type": "code",
      "source": [
        "# Fonction pour calculer KL divergence entre deux matrices entières\n",
        "def matrix_kl_divergence(mat1, mat2):\n",
        "    epsilon = 1e-10  # Pour éviter division par zéro\n",
        "\n",
        "    # Aplatir les matrices en vecteurs\n",
        "    vec1 = mat1.values.flatten() + epsilon\n",
        "    vec2 = mat2.values.flatten() + epsilon\n",
        "\n",
        "    # Normaliser pour s'assurer que ce sont des distributions\n",
        "    vec1 = vec1 / vec1.sum()\n",
        "    vec2 = vec2 / vec2.sum()\n",
        "\n",
        "    # Calculer KL divergence\n",
        "    return stats.entropy(vec1, vec2)\n",
        "\n",
        "# Calculer KL pour les matrices entières\n",
        "kl_neutre_positif = matrix_kl_divergence(prob_neutre_positif_banal, prob_neutre_positif_sensible)\n",
        "kl_neutre_negatif = matrix_kl_divergence(prob_neutre_negatif_banal, prob_neutre_negatif_sensible)\n",
        "\n",
        "print(\"KL Divergence (matrices entières - neutre/positif): banal vs sensible:\", round(kl_neutre_positif, 3))\n",
        "print(\"KL Divergence (matrices entières - neutre/négatif): banal vs sensible:\", round(kl_neutre_negatif, 3))"
      ],
      "metadata": {
        "id": "UXOl9p2ExMCx"
      },
      "execution_count": null,
      "outputs": []
    },
    {
      "cell_type": "markdown",
      "source": [
        "La divergence KL pour la matrice `neutre`/`négatif` (`10.263`) est environ 4 fois plus élevée que celle pour neutre/positif (`2.86`), démontrant une asymétrie défensive majeure.\n",
        "\n",
        "**Cela valide que le système reconfigure beaucoup plus radicalement l'ensemble de ses transitions d'états face aux sujets sensibles dans un contexte négatif comparé à un contexte positif**.\n",
        "\n",
        "Cela renforce notre modèle théorique de reconfiguration défensive contextuellement modulée."
      ],
      "metadata": {
        "id": "9ZcXY-No5Ato"
      }
    },
    {
      "cell_type": "code",
      "source": [],
      "metadata": {
        "id": "nqkRpNYCq_Cz"
      },
      "execution_count": null,
      "outputs": []
    }
  ]
}